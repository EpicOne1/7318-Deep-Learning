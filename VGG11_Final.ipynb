{
  "nbformat": 4,
  "nbformat_minor": 0,
  "metadata": {
    "accelerator": "GPU",
    "colab": {
      "name": "VGG11_final.ipynb",
      "provenance": [],
      "collapsed_sections": [],
      "include_colab_link": true
    },
    "kernelspec": {
      "display_name": "Python 3",
      "language": "python",
      "name": "python3"
    },
    "language_info": {
      "codemirror_mode": {
        "name": "ipython",
        "version": 3
      },
      "file_extension": ".py",
      "mimetype": "text/x-python",
      "name": "python",
      "nbconvert_exporter": "python",
      "pygments_lexer": "ipython3",
      "version": "3.7.7"
    }
  },
  "cells": [
    {
      "cell_type": "markdown",
      "metadata": {
        "id": "view-in-github",
        "colab_type": "text"
      },
      "source": [
        "<a href=\"https://colab.research.google.com/github/EpicOne1/7318-Deep-Learning/blob/master/VGG11_Final.ipynb\" target=\"_parent\"><img src=\"https://colab.research.google.com/assets/colab-badge.svg\" alt=\"Open In Colab\"/></a>"
      ]
    },
    {
      "cell_type": "code",
      "metadata": {
        "colab_type": "code",
        "id": "uBB8WxTnn5tp",
        "colab": {}
      },
      "source": [
        "import torch\n",
        "import torchvision\n",
        "import torchvision.transforms as transforms"
      ],
      "execution_count": 1,
      "outputs": []
    },
    {
      "cell_type": "code",
      "metadata": {
        "colab_type": "code",
        "id": "s3ZYhbjWn5tw",
        "colab": {}
      },
      "source": [
        "device = torch.device(\"cuda:0\" if torch.cuda.is_available() else \"cpu\")"
      ],
      "execution_count": 2,
      "outputs": []
    },
    {
      "cell_type": "code",
      "metadata": {
        "colab_type": "code",
        "id": "WD-i9i2Cn5t0",
        "colab": {
          "base_uri": "https://localhost:8080/",
          "height": 34
        },
        "outputId": "0c3f24e3-ce95-4130-d67d-6ff3363138e6"
      },
      "source": [
        "device"
      ],
      "execution_count": 12,
      "outputs": [
        {
          "output_type": "execute_result",
          "data": {
            "text/plain": [
              "device(type='cuda', index=0)"
            ]
          },
          "metadata": {
            "tags": []
          },
          "execution_count": 12
        }
      ]
    },
    {
      "cell_type": "code",
      "metadata": {
        "colab_type": "code",
        "id": "MUlzssfFn5t5",
        "colab": {
          "base_uri": "https://localhost:8080/",
          "height": 50
        },
        "outputId": "7430cde4-e4aa-478e-9847-45893c130895"
      },
      "source": [
        "transform = transforms.Compose([\n",
        "    transforms.ToTensor(),  \n",
        "    transforms.Normalize((0.5,0.5,0.5), (0.5,0.5,0.5))\n",
        "])\n",
        "\n",
        "trainset = torchvision.datasets.CIFAR10(root='./data', train=True,\n",
        "                                        download=True, transform=transform)\n",
        "trainloader = torch.utils.data.DataLoader(trainset, batch_size=64,\n",
        "                                          shuffle=True, num_workers=2)\n",
        "\n",
        "testset = torchvision.datasets.CIFAR10(root='./data', train=False,\n",
        "                                       download=True, transform=transform)\n",
        "testloader = torch.utils.data.DataLoader(testset, batch_size=64,\n",
        "                                         shuffle=False, num_workers=2)\n",
        "\n",
        "classes = ('plane', 'car', 'bird', 'cat',\n",
        "           'deer', 'dog', 'frog', 'horse', 'ship', 'truck')"
      ],
      "execution_count": 18,
      "outputs": [
        {
          "output_type": "stream",
          "text": [
            "Files already downloaded and verified\n",
            "Files already downloaded and verified\n"
          ],
          "name": "stdout"
        }
      ]
    },
    {
      "cell_type": "code",
      "metadata": {
        "colab_type": "code",
        "id": "LK7plEM8n5t-",
        "colab": {
          "base_uri": "https://localhost:8080/",
          "height": 504
        },
        "outputId": "c1815d4e-e210-4185-efad-65a1718ef86d"
      },
      "source": [
        "import torch.nn as nn\n",
        "import torch.nn.functional as F\n",
        "\n",
        "# VGG11 ConvNet configuration is 'A', 'M' = Max pooling layer\n",
        "# B is reduced size networks \n",
        "cfgs = {'A': [64, 'M', 128, 'M', 256, 256, 'M', 512, 512, 'M', 512, 512, 'M'],\n",
        "        'B': [64, 'M', 128, 'M', 256, 256, 'M', 512, 512, 'M'],\n",
        "        'C': [64, 'M', 128, 'M', 256, 256, 'M']}\n",
        "\n",
        "def make_layers(cfg):\n",
        "    layers = []\n",
        "    in_channels = 3\n",
        "    for v in cfg:\n",
        "        if v == 'M':\n",
        "            layers += [nn.MaxPool2d(kernel_size=2, stride=2)]\n",
        "        else: \n",
        "            # add convolutional layer and Batch Norm\n",
        "            layers.append(nn.Conv2d(in_channels=in_channels,\n",
        "                                    out_channels=v,\n",
        "                                    kernel_size=3,\n",
        "                                    stride=1,\n",
        "                                    padding=1,\n",
        "                                    bias=True))\n",
        "            layers.append(nn.BatchNorm2d(v))\n",
        "            layers.append(nn.ReLU(inplace=True))\n",
        "            in_channels = v\n",
        "    return nn.Sequential(*layers)\n",
        "\n",
        "\n",
        "\n",
        "class VGG(nn.Module):\n",
        "    # 10 classes\n",
        "    def __init__(self, name, num_classes=10, init_weights = True):\n",
        "        super(VGG, self).__init__()\n",
        "        # VGG11_D\n",
        "        cfg = cfgs[name]\n",
        "        self.layers = make_layers(cfg)\n",
        "        self.avgpool = nn.AdaptiveAvgPool2d((3,3)) # change 7x7 to 3x3\n",
        "        self.classifier = nn.Sequential(\n",
        "            nn.Linear(256*3*3, 512), #fc1\n",
        "            nn.ReLU(True),\n",
        "            nn.Dropout(),\n",
        "            nn.Linear(512,256), #fc2\n",
        "            nn.ReLU(True),\n",
        "            nn.Dropout(),\n",
        "            nn.Linear(256, num_classes) #fc3\n",
        "        )\n",
        "        if init_weights:\n",
        "            self._initialize_weights()\n",
        "            \n",
        "    def forward(self,x):\n",
        "        x = self.layers(x)\n",
        "        x = self.avgpool(x)\n",
        "        x = torch.flatten(x,1)\n",
        "        x = self.classifier(x)\n",
        "        return x\n",
        "    \n",
        "    def _initialize_weights(self):\n",
        "        for m in self.modules():\n",
        "            if isinstance(m, nn.Conv2d):\n",
        "                nn.init.kaiming_normal_(m.weight, mode='fan_out', nonlinearity='relu')\n",
        "                if m.bias is not None:\n",
        "                    nn.init.constant_(m.bias, 0)\n",
        "            elif isinstance(m, nn.BatchNorm2d):\n",
        "                nn.init.constant_(m.weight, 1)\n",
        "                nn.init.constant_(m.bias, 0)\n",
        "            elif isinstance(m, nn.Linear):\n",
        "                nn.init.normal_(m.weight, 0, 0.01)\n",
        "                nn.init.constant_(m.bias, 0)\n",
        "    \n",
        "    \n",
        "def VGG11_C():\n",
        "  return VGG('C')\n",
        "\n",
        "    \n",
        "net = VGG11_C().to(device)\n",
        "print(net)"
      ],
      "execution_count": 19,
      "outputs": [
        {
          "output_type": "stream",
          "text": [
            "VGG(\n",
            "  (layers): Sequential(\n",
            "    (0): Conv2d(3, 64, kernel_size=(3, 3), stride=(1, 1), padding=(1, 1))\n",
            "    (1): BatchNorm2d(64, eps=1e-05, momentum=0.1, affine=True, track_running_stats=True)\n",
            "    (2): ReLU(inplace=True)\n",
            "    (3): MaxPool2d(kernel_size=2, stride=2, padding=0, dilation=1, ceil_mode=False)\n",
            "    (4): Conv2d(64, 128, kernel_size=(3, 3), stride=(1, 1), padding=(1, 1))\n",
            "    (5): BatchNorm2d(128, eps=1e-05, momentum=0.1, affine=True, track_running_stats=True)\n",
            "    (6): ReLU(inplace=True)\n",
            "    (7): MaxPool2d(kernel_size=2, stride=2, padding=0, dilation=1, ceil_mode=False)\n",
            "    (8): Conv2d(128, 256, kernel_size=(3, 3), stride=(1, 1), padding=(1, 1))\n",
            "    (9): BatchNorm2d(256, eps=1e-05, momentum=0.1, affine=True, track_running_stats=True)\n",
            "    (10): ReLU(inplace=True)\n",
            "    (11): Conv2d(256, 256, kernel_size=(3, 3), stride=(1, 1), padding=(1, 1))\n",
            "    (12): BatchNorm2d(256, eps=1e-05, momentum=0.1, affine=True, track_running_stats=True)\n",
            "    (13): ReLU(inplace=True)\n",
            "    (14): MaxPool2d(kernel_size=2, stride=2, padding=0, dilation=1, ceil_mode=False)\n",
            "  )\n",
            "  (avgpool): AdaptiveAvgPool2d(output_size=(3, 3))\n",
            "  (classifier): Sequential(\n",
            "    (0): Linear(in_features=2304, out_features=512, bias=True)\n",
            "    (1): ReLU(inplace=True)\n",
            "    (2): Dropout(p=0.5, inplace=False)\n",
            "    (3): Linear(in_features=512, out_features=256, bias=True)\n",
            "    (4): ReLU(inplace=True)\n",
            "    (5): Dropout(p=0.5, inplace=False)\n",
            "    (6): Linear(in_features=256, out_features=10, bias=True)\n",
            "  )\n",
            ")\n"
          ],
          "name": "stdout"
        }
      ]
    },
    {
      "cell_type": "code",
      "metadata": {
        "colab_type": "code",
        "id": "odbRFbbpn5uC",
        "colab": {}
      },
      "source": [
        "import torch.optim as optim\n",
        "\n",
        "criterion = nn.CrossEntropyLoss()\n",
        "optimizer = optim.SGD(net.parameters(), lr = 0.001, momentum=0.9, weight_decay = 5*1e-4)"
      ],
      "execution_count": 20,
      "outputs": []
    },
    {
      "cell_type": "code",
      "metadata": {
        "colab_type": "code",
        "id": "SEGK-dTKn5uF",
        "colab": {
          "base_uri": "https://localhost:8080/",
          "height": 1000
        },
        "outputId": "b11ad318-0e59-4290-d1c1-b0262d90640d"
      },
      "source": [
        "training_acc = []\n",
        "test_acc = []\n",
        "train_loss = []\n",
        "\n",
        "for epoch in range(25): # loop over the dataset 25 times (1 epoch = all training samples)\n",
        "    \n",
        "    running_loss = 0.0\n",
        "    # ith mini-batch, 1 mini-batch has 64 training samples \n",
        "    # batch size = 64\n",
        "    for i, data in enumerate(trainloader, 0):\n",
        "        # get inputs; the data is presented as a list of [inputs, labels]\n",
        "        inputs, labels = data\n",
        "        inputs = inputs.to(device)\n",
        "        labels = labels.to(device)\n",
        "        \n",
        "        # zero the parameter gradients\n",
        "        optimizer.zero_grad()\n",
        "        \n",
        "        # forward \n",
        "        outputs = net(inputs)\n",
        "        # calculate loss\n",
        "        loss = criterion(outputs, labels)\n",
        "        # backward\n",
        "        loss.backward()\n",
        "        # update parameter (optimize)\n",
        "        optimizer.step()\n",
        "        \n",
        "        # print statistics\n",
        "        running_loss += loss.item()\n",
        "        if i%125 == 124: # print every 125 mini-batches, 125*64 samples\n",
        "            print('[%d, %5d] loss: %.3f' %\n",
        "                 (epoch+1, i+1, running_loss/125))\n",
        "            # every 125 mini-batches, reset running_loss    \n",
        "            # because it is accumulated for each mini-batches\n",
        "            train_loss.append(running_loss/125)\n",
        "            running_loss = 0.0\n",
        "            \n",
        "    \n",
        "    # training and test accuracy for each epoch\n",
        "    # train\n",
        "    correct = 0\n",
        "    total = 0\n",
        "    # no_grad(): reduce memory consumption for computations\n",
        "    with torch.no_grad():\n",
        "        # load data from training set\n",
        "        for data in trainloader:\n",
        "            images, labels = data\n",
        "            images = images.to(device)\n",
        "            labels = labels.to(device)\n",
        "            outputs = net(images)\n",
        "            _, predicted = torch.max(outputs.data, 1)\n",
        "            total += labels.size(0)\n",
        "            correct += (predicted == labels).sum().item()\n",
        "        training_acc.append(100 * correct / total)\n",
        "        \n",
        "    # test     \n",
        "    correct = 0\n",
        "    total = 0\n",
        "    # no_grad(): reduce memory consumption for computations\n",
        "    with torch.no_grad():\n",
        "        # load data from test set\n",
        "        for data in testloader:\n",
        "            images, labels = data\n",
        "            images = images.to(device)\n",
        "            labels = labels.to(device)\n",
        "            outputs = net(images)\n",
        "            _, predicted = torch.max(outputs.data, 1)\n",
        "            total += labels.size(0)\n",
        "            correct += (predicted == labels).sum().item()\n",
        "        test_acc.append(100 * correct / total)    \n",
        "        \n",
        "print(\"Finished Training\")"
      ],
      "execution_count": 21,
      "outputs": [
        {
          "output_type": "stream",
          "text": [
            "[1,   125] loss: 2.301\n",
            "[1,   250] loss: 2.294\n",
            "[1,   375] loss: 2.271\n",
            "[1,   500] loss: 2.193\n",
            "[1,   625] loss: 2.031\n",
            "[1,   750] loss: 1.904\n",
            "[2,   125] loss: 1.822\n",
            "[2,   250] loss: 1.779\n",
            "[2,   375] loss: 1.740\n",
            "[2,   500] loss: 1.707\n",
            "[2,   625] loss: 1.668\n",
            "[2,   750] loss: 1.636\n",
            "[3,   125] loss: 1.604\n",
            "[3,   250] loss: 1.552\n",
            "[3,   375] loss: 1.548\n",
            "[3,   500] loss: 1.497\n",
            "[3,   625] loss: 1.471\n",
            "[3,   750] loss: 1.426\n",
            "[4,   125] loss: 1.399\n",
            "[4,   250] loss: 1.349\n",
            "[4,   375] loss: 1.327\n",
            "[4,   500] loss: 1.325\n",
            "[4,   625] loss: 1.308\n",
            "[4,   750] loss: 1.255\n",
            "[5,   125] loss: 1.228\n",
            "[5,   250] loss: 1.234\n",
            "[5,   375] loss: 1.188\n",
            "[5,   500] loss: 1.159\n",
            "[5,   625] loss: 1.170\n",
            "[5,   750] loss: 1.135\n",
            "[6,   125] loss: 1.114\n",
            "[6,   250] loss: 1.084\n",
            "[6,   375] loss: 1.075\n",
            "[6,   500] loss: 1.079\n",
            "[6,   625] loss: 1.035\n",
            "[6,   750] loss: 1.046\n",
            "[7,   125] loss: 1.022\n",
            "[7,   250] loss: 0.984\n",
            "[7,   375] loss: 0.988\n",
            "[7,   500] loss: 0.976\n",
            "[7,   625] loss: 0.951\n",
            "[7,   750] loss: 0.957\n",
            "[8,   125] loss: 0.922\n",
            "[8,   250] loss: 0.908\n",
            "[8,   375] loss: 0.905\n",
            "[8,   500] loss: 0.894\n",
            "[8,   625] loss: 0.903\n",
            "[8,   750] loss: 0.903\n",
            "[9,   125] loss: 0.869\n",
            "[9,   250] loss: 0.842\n",
            "[9,   375] loss: 0.857\n",
            "[9,   500] loss: 0.822\n",
            "[9,   625] loss: 0.835\n",
            "[9,   750] loss: 0.830\n",
            "[10,   125] loss: 0.797\n",
            "[10,   250] loss: 0.784\n",
            "[10,   375] loss: 0.791\n",
            "[10,   500] loss: 0.803\n",
            "[10,   625] loss: 0.772\n",
            "[10,   750] loss: 0.766\n",
            "[11,   125] loss: 0.718\n",
            "[11,   250] loss: 0.755\n",
            "[11,   375] loss: 0.757\n",
            "[11,   500] loss: 0.727\n",
            "[11,   625] loss: 0.736\n",
            "[11,   750] loss: 0.733\n",
            "[12,   125] loss: 0.702\n",
            "[12,   250] loss: 0.699\n",
            "[12,   375] loss: 0.676\n",
            "[12,   500] loss: 0.680\n",
            "[12,   625] loss: 0.672\n",
            "[12,   750] loss: 0.687\n",
            "[13,   125] loss: 0.644\n",
            "[13,   250] loss: 0.646\n",
            "[13,   375] loss: 0.646\n",
            "[13,   500] loss: 0.642\n",
            "[13,   625] loss: 0.632\n",
            "[13,   750] loss: 0.652\n",
            "[14,   125] loss: 0.596\n",
            "[14,   250] loss: 0.601\n",
            "[14,   375] loss: 0.609\n",
            "[14,   500] loss: 0.615\n",
            "[14,   625] loss: 0.580\n",
            "[14,   750] loss: 0.595\n",
            "[15,   125] loss: 0.552\n",
            "[15,   250] loss: 0.567\n",
            "[15,   375] loss: 0.576\n",
            "[15,   500] loss: 0.571\n",
            "[15,   625] loss: 0.560\n",
            "[15,   750] loss: 0.582\n",
            "[16,   125] loss: 0.519\n",
            "[16,   250] loss: 0.527\n",
            "[16,   375] loss: 0.520\n",
            "[16,   500] loss: 0.524\n",
            "[16,   625] loss: 0.505\n",
            "[16,   750] loss: 0.520\n",
            "[17,   125] loss: 0.480\n",
            "[17,   250] loss: 0.478\n",
            "[17,   375] loss: 0.490\n",
            "[17,   500] loss: 0.493\n",
            "[17,   625] loss: 0.484\n",
            "[17,   750] loss: 0.481\n",
            "[18,   125] loss: 0.443\n",
            "[18,   250] loss: 0.436\n",
            "[18,   375] loss: 0.433\n",
            "[18,   500] loss: 0.457\n",
            "[18,   625] loss: 0.457\n",
            "[18,   750] loss: 0.456\n",
            "[19,   125] loss: 0.411\n",
            "[19,   250] loss: 0.413\n",
            "[19,   375] loss: 0.429\n",
            "[19,   500] loss: 0.423\n",
            "[19,   625] loss: 0.415\n",
            "[19,   750] loss: 0.417\n",
            "[20,   125] loss: 0.361\n",
            "[20,   250] loss: 0.393\n",
            "[20,   375] loss: 0.376\n",
            "[20,   500] loss: 0.367\n",
            "[20,   625] loss: 0.389\n",
            "[20,   750] loss: 0.385\n",
            "[21,   125] loss: 0.332\n",
            "[21,   250] loss: 0.339\n",
            "[21,   375] loss: 0.351\n",
            "[21,   500] loss: 0.349\n",
            "[21,   625] loss: 0.362\n",
            "[21,   750] loss: 0.363\n",
            "[22,   125] loss: 0.312\n",
            "[22,   250] loss: 0.320\n",
            "[22,   375] loss: 0.317\n",
            "[22,   500] loss: 0.324\n",
            "[22,   625] loss: 0.322\n",
            "[22,   750] loss: 0.328\n",
            "[23,   125] loss: 0.279\n",
            "[23,   250] loss: 0.279\n",
            "[23,   375] loss: 0.293\n",
            "[23,   500] loss: 0.300\n",
            "[23,   625] loss: 0.290\n",
            "[23,   750] loss: 0.291\n",
            "[24,   125] loss: 0.241\n",
            "[24,   250] loss: 0.263\n",
            "[24,   375] loss: 0.265\n",
            "[24,   500] loss: 0.266\n",
            "[24,   625] loss: 0.278\n",
            "[24,   750] loss: 0.263\n",
            "[25,   125] loss: 0.220\n",
            "[25,   250] loss: 0.242\n",
            "[25,   375] loss: 0.232\n",
            "[25,   500] loss: 0.236\n",
            "[25,   625] loss: 0.242\n",
            "[25,   750] loss: 0.265\n",
            "Finished Training\n"
          ],
          "name": "stdout"
        }
      ]
    },
    {
      "cell_type": "code",
      "metadata": {
        "id": "-IOM0ZrMlHOF",
        "colab_type": "code",
        "colab": {}
      },
      "source": [
        "PATH = './VGG11_C.pth'\n",
        "torch.save(net.state_dict(), PATH)\n"
      ],
      "execution_count": 22,
      "outputs": []
    },
    {
      "cell_type": "code",
      "metadata": {
        "id": "f3hlhWhElKYg",
        "colab_type": "code",
        "colab": {
          "base_uri": "https://localhost:8080/",
          "height": 34
        },
        "outputId": "16e90245-a1d6-408b-aebe-026520b24a53"
      },
      "source": [
        "net = VGG11_C()\n",
        "net.load_state_dict(torch.load(PATH))"
      ],
      "execution_count": 23,
      "outputs": [
        {
          "output_type": "execute_result",
          "data": {
            "text/plain": [
              "<All keys matched successfully>"
            ]
          },
          "metadata": {
            "tags": []
          },
          "execution_count": 23
        }
      ]
    },
    {
      "cell_type": "markdown",
      "metadata": {
        "colab_type": "text",
        "id": "i5ODYQdmuzrw"
      },
      "source": [
        "VGG11_2FC"
      ]
    },
    {
      "cell_type": "code",
      "metadata": {
        "colab_type": "code",
        "id": "MbIxPJPjurex",
        "colab": {
          "base_uri": "https://localhost:8080/",
          "height": 295
        },
        "outputId": "2cbea826-7277-497b-d606-c8b1395f36d9"
      },
      "source": [
        "import matplotlib.pyplot as plt\n",
        "import numpy as np\n",
        "epoch = np.linspace(1,26,25)\n",
        "fig = plt.figure()\n",
        "plt.plot(epoch, training_acc, label = 'training_accuracy')\n",
        "plt.plot(epoch, test_acc, label = 'test_accuracy')\n",
        "plt.title('Training and test accuracy for VGG11_2FC')\n",
        "plt.xlabel('Epoch')\n",
        "plt.ylabel('Accuracy')\n",
        "plt.legend()\n",
        "fig.savefig('VGG11_2FC_result.jpg')"
      ],
      "execution_count": 26,
      "outputs": [
        {
          "output_type": "display_data",
          "data": {
            "image/png": "[encoded data removed]",
            "text/plain": [
              "<Figure size 432x288 with 1 Axes>"
            ]
          },
          "metadata": {
            "tags": [],
            "needs_background": "light"
          }
        }
      ]
    },
    {
      "cell_type": "code",
      "metadata": {
        "colab_type": "code",
        "id": "SzjpPOXFw3Tb",
        "colab": {}
      },
      "source": [
        ""
      ],
      "execution_count": null,
      "outputs": []
    },
    {
      "cell_type": "markdown",
      "metadata": {
        "colab_type": "text",
        "id": "TkKg-1yF3vxv"
      },
      "source": [
        "VGG11_FC"
      ]
    },
    {
      "cell_type": "code",
      "metadata": {
        "colab_type": "code",
        "id": "phG8naLW84fb",
        "colab": {
          "base_uri": "https://localhost:8080/",
          "height": 295
        },
        "outputId": "1c275f2b-3f1f-4554-9c5b-a1f19eb90080"
      },
      "source": [
        "import matplotlib.pyplot as plt\n",
        "import numpy as np\n",
        "epoch = np.linspace(1,21,20)\n",
        "fig = plt.figure()\n",
        "plt.plot(epoch, training_acc, label = 'training_accuracy')\n",
        "plt.plot(epoch, test_acc, label = 'test_accuracy')\n",
        "plt.title('Training and test accuracy for VGG11_FC')\n",
        "plt.xlabel('Epoch')\n",
        "plt.ylabel('Accuracy')\n",
        "plt.legend()\n",
        "fig.savefig('VGG11_FC_result.jpg')"
      ],
      "execution_count": null,
      "outputs": [
        {
          "output_type": "display_data",
          "data": {
            "image/png": "[encoded data removed]",
            "text/plain": [
              "<Figure size 432x288 with 1 Axes>"
            ]
          },
          "metadata": {
            "tags": [],
            "needs_background": "light"
          }
        }
      ]
    },
    {
      "cell_type": "code",
      "metadata": {
        "colab_type": "code",
        "id": "Px1XX__uBY50",
        "colab": {
          "base_uri": "https://localhost:8080/",
          "height": 295
        },
        "outputId": "bbfd817a-fd04-46c4-c087-a1f2a78be47f"
      },
      "source": [
        "import matplotlib.pyplot as plt\n",
        "import numpy as np\n",
        "epoch = np.linspace(1,27,26)\n",
        "fig = plt.figure()\n",
        "plt.plot(epoch, training_acc, label = 'training_accuracy')\n",
        "plt.plot(epoch, test_acc, label = 'test_accuracy')\n",
        "plt.title('Training and test accuracy for VGG11_FC')\n",
        "plt.xlabel('Epoch')\n",
        "plt.ylabel('Accuracy')\n",
        "plt.legend()\n",
        "fig.savefig('VGG11_FC_result.jpg')"
      ],
      "execution_count": null,
      "outputs": [
        {
          "output_type": "display_data",
          "data": {
            "image/png": "[encoded data removed]",
            "text/plain": [
              "<Figure size 432x288 with 1 Axes>"
            ]
          },
          "metadata": {
            "tags": [],
            "needs_background": "light"
          }
        }
      ]
    },
    {
      "cell_type": "code",
      "metadata": {
        "colab_type": "code",
        "id": "gz_rutLWJXNM",
        "colab": {
          "base_uri": "https://localhost:8080/",
          "height": 185
        },
        "outputId": "049c4d37-bf35-44c2-f7fb-e37174db8a86"
      },
      "source": [
        "# test for each class\n",
        "class_correct = list(0. for i in range(10))\n",
        "# class_correct = [0.0, 0.0, 0.0, 0.0, 0.0, 0.0, 0.0, 0.0, 0.0, 0.0]\n",
        "class_total = list(0. for i in range(10))\n",
        "with torch.no_grad():\n",
        "    for data in testloader:\n",
        "        images, labels = data\n",
        "        outputs = net(images)\n",
        "        _, predicted = torch.max(outputs, 1)\n",
        "        # c will be a tensor contain 0 and 1, 1:predict correct\n",
        "        c = (predicted == labels).squeeze()\n",
        "        # batch size = 4\n",
        "        for i in range(4):\n",
        "            label = labels[i]\n",
        "            class_correct[label] += c[i].item() \n",
        "            class_total[label] += 1\n",
        "\n",
        "# print result\n",
        "for i in range(10):\n",
        "    print('Accuracy of %5s : %2d %%' % (\n",
        "    classes[i], 100 * class_correct[i] / class_total[i]))"
      ],
      "execution_count": 24,
      "outputs": [
        {
          "output_type": "stream",
          "text": [
            "Accuracy of plane : 78 %\n",
            "Accuracy of   car : 78 %\n",
            "Accuracy of  bird : 72 %\n",
            "Accuracy of   cat : 60 %\n",
            "Accuracy of  deer : 81 %\n",
            "Accuracy of   dog : 61 %\n",
            "Accuracy of  frog : 78 %\n",
            "Accuracy of horse : 85 %\n",
            "Accuracy of  ship : 87 %\n",
            "Accuracy of truck : 88 %\n"
          ],
          "name": "stdout"
        }
      ]
    },
    {
      "cell_type": "code",
      "metadata": {
        "id": "F6bgDR9Tp8fO",
        "colab_type": "code",
        "colab": {}
      },
      "source": [
        ""
      ],
      "execution_count": null,
      "outputs": []
    }
  ]
}