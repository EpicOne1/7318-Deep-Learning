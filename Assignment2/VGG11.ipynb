{
  "nbformat": 4,
  "nbformat_minor": 0,
  "metadata": {
    "kernelspec": {
      "display_name": "Python 3",
      "language": "python",
      "name": "python3"
    },
    "language_info": {
      "codemirror_mode": {
        "name": "ipython",
        "version": 3
      },
      "file_extension": ".py",
      "mimetype": "text/x-python",
      "name": "python",
      "nbconvert_exporter": "python",
      "pygments_lexer": "ipython3",
      "version": "3.7.7"
    },
    "colab": {
      "name": "VGG11.ipynb",
      "provenance": [],
      "collapsed_sections": [],
      "include_colab_link": true
    },
    "accelerator": "GPU"
  },
  "cells": [
    {
      "cell_type": "markdown",
      "metadata": {
        "id": "view-in-github",
        "colab_type": "text"
      },
      "source": [
        "<a href=\"https://colab.research.google.com/github/EpicOne1/7318-Deep-Learning/blob/master/VGG11.ipynb\" target=\"_parent\"><img src=\"https://colab.research.google.com/assets/colab-badge.svg\" alt=\"Open In Colab\"/></a>"
      ]
    },
    {
      "cell_type": "code",
      "metadata": {
        "id": "uBB8WxTnn5tp",
        "colab_type": "code",
        "colab": {}
      },
      "source": [
        "import torch\n",
        "import torchvision\n",
        "import torchvision.transforms as transforms"
      ],
      "execution_count": 14,
      "outputs": []
    },
    {
      "cell_type": "code",
      "metadata": {
        "id": "s3ZYhbjWn5tw",
        "colab_type": "code",
        "colab": {}
      },
      "source": [
        "device = torch.device(\"cuda:0\" if torch.cuda.is_available() else \"cpu\")"
      ],
      "execution_count": 15,
      "outputs": []
    },
    {
      "cell_type": "code",
      "metadata": {
        "id": "WD-i9i2Cn5t0",
        "colab_type": "code",
        "colab": {
          "base_uri": "https://localhost:8080/",
          "height": 34
        },
        "outputId": "bfe861b8-9447-4c45-8717-30a5503dc71c"
      },
      "source": [
        "device"
      ],
      "execution_count": 16,
      "outputs": [
        {
          "output_type": "execute_result",
          "data": {
            "text/plain": [
              "device(type='cuda', index=0)"
            ]
          },
          "metadata": {
            "tags": []
          },
          "execution_count": 16
        }
      ]
    },
    {
      "cell_type": "code",
      "metadata": {
        "id": "MUlzssfFn5t5",
        "colab_type": "code",
        "colab": {
          "base_uri": "https://localhost:8080/",
          "height": 50
        },
        "outputId": "18e7de00-0c38-4ad7-9e55-e3721a9a3efd"
      },
      "source": [
        "transform = transforms.Compose([\n",
        "    transforms.ToTensor(),  \n",
        "    transforms.Normalize((0.5,0.5,0.5), (0.5,0.5,0.5))\n",
        "])\n",
        "\n",
        "trainset = torchvision.datasets.CIFAR10(root='./data', train=True,\n",
        "                                        download=True, transform=transform)\n",
        "trainloader = torch.utils.data.DataLoader(trainset, batch_size=64,\n",
        "                                          shuffle=True, num_workers=2)\n",
        "\n",
        "testset = torchvision.datasets.CIFAR10(root='./data', train=False,\n",
        "                                       download=True, transform=transform)\n",
        "testloader = torch.utils.data.DataLoader(testset, batch_size=64,\n",
        "                                         shuffle=False, num_workers=2)\n",
        "\n",
        "classes = ('plane', 'car', 'bird', 'cat',\n",
        "           'deer', 'dog', 'frog', 'horse', 'ship', 'truck')"
      ],
      "execution_count": 17,
      "outputs": [
        {
          "output_type": "stream",
          "text": [
            "Files already downloaded and verified\n",
            "Files already downloaded and verified\n"
          ],
          "name": "stdout"
        }
      ]
    },
    {
      "cell_type": "code",
      "metadata": {
        "id": "LK7plEM8n5t-",
        "colab_type": "code",
        "colab": {
          "base_uri": "https://localhost:8080/",
          "height": 622
        },
        "outputId": "b6f2ebbd-0670-414b-8f21-85e16688bd32"
      },
      "source": [
        "import torch.nn as nn\n",
        "import torch.nn.functional as F\n",
        "\n",
        "# VGG11 ConvNet configuration is 'A', 'M' = Max pooling layer\n",
        "# B is reduced size networks \n",
        "cfgs = {'A': [64, 'M', 128, 'M', 256, 256, 'M', 512, 512, 'M', 512, 512, 'M'],\n",
        "        'B': [64, 'M', 128, 'M', 256, 256, 'M', 512, 512, 'M']}\n",
        "\n",
        "def make_layers(cfg):\n",
        "    layers = []\n",
        "    in_channels = 3\n",
        "    for v in cfg:\n",
        "        if v == 'M':\n",
        "            layers += [nn.MaxPool2d(kernel_size=2, stride=2)]\n",
        "        else: \n",
        "            # add convolutional layer and Batch Norm\n",
        "            layers.append(nn.Conv2d(in_channels=in_channels,\n",
        "                                    out_channels=v,\n",
        "                                    kernel_size=3,\n",
        "                                    stride=1,\n",
        "                                    padding=1,\n",
        "                                    bias=True))\n",
        "            layers.append(nn.BatchNorm2d(v))\n",
        "            layers.append(nn.ReLU(inplace=True))\n",
        "            in_channels = v\n",
        "    return nn.Sequential(*layers)\n",
        "\n",
        "\n",
        "\n",
        "class VGG(nn.Module):\n",
        "    # 10 classes\n",
        "    def __init__(self, name, num_classes=10):\n",
        "        super(VGG, self).__init__()\n",
        "        # VGG11\n",
        "        cfg = cfgs[name]\n",
        "        self.layers = make_layers(cfg)\n",
        "        self.avgpool = nn.AdaptiveAvgPool2d((3,3)) # change 7x7 to 3x3\n",
        "        self.classifier = nn.Sequential(\n",
        "            nn.Linear(512*3*3, 512), #fc1\n",
        "            nn.ReLU(True),\n",
        "            nn.Dropout(),\n",
        "            nn.Linear(512,256), #fc2\n",
        "            nn.ReLU(True),\n",
        "            nn.Dropout(),\n",
        "            nn.Linear(256, num_classes) #fc3\n",
        "        )\n",
        "            \n",
        "    def forward(self,x):\n",
        "        x = self.layers(x)\n",
        "        x = self.avgpool(x)\n",
        "        x = torch.flatten(x,1)\n",
        "        x = self.classifier(x)\n",
        "        return x\n",
        "    \n",
        "def VGG11():\n",
        "    return VGG('A')\n",
        "\n",
        "def VGG11_reduced():\n",
        "    return VGG('B')\n",
        "    \n",
        "    \n",
        "net = VGG11_reduced().to(device)\n",
        "print(net)"
      ],
      "execution_count": 18,
      "outputs": [
        {
          "output_type": "stream",
          "text": [
            "VGG(\n",
            "  (layers): Sequential(\n",
            "    (0): Conv2d(3, 64, kernel_size=(3, 3), stride=(1, 1), padding=(1, 1))\n",
            "    (1): BatchNorm2d(64, eps=1e-05, momentum=0.1, affine=True, track_running_stats=True)\n",
            "    (2): ReLU(inplace=True)\n",
            "    (3): MaxPool2d(kernel_size=2, stride=2, padding=0, dilation=1, ceil_mode=False)\n",
            "    (4): Conv2d(64, 128, kernel_size=(3, 3), stride=(1, 1), padding=(1, 1))\n",
            "    (5): BatchNorm2d(128, eps=1e-05, momentum=0.1, affine=True, track_running_stats=True)\n",
            "    (6): ReLU(inplace=True)\n",
            "    (7): MaxPool2d(kernel_size=2, stride=2, padding=0, dilation=1, ceil_mode=False)\n",
            "    (8): Conv2d(128, 256, kernel_size=(3, 3), stride=(1, 1), padding=(1, 1))\n",
            "    (9): BatchNorm2d(256, eps=1e-05, momentum=0.1, affine=True, track_running_stats=True)\n",
            "    (10): ReLU(inplace=True)\n",
            "    (11): Conv2d(256, 256, kernel_size=(3, 3), stride=(1, 1), padding=(1, 1))\n",
            "    (12): BatchNorm2d(256, eps=1e-05, momentum=0.1, affine=True, track_running_stats=True)\n",
            "    (13): ReLU(inplace=True)\n",
            "    (14): MaxPool2d(kernel_size=2, stride=2, padding=0, dilation=1, ceil_mode=False)\n",
            "    (15): Conv2d(256, 512, kernel_size=(3, 3), stride=(1, 1), padding=(1, 1))\n",
            "    (16): BatchNorm2d(512, eps=1e-05, momentum=0.1, affine=True, track_running_stats=True)\n",
            "    (17): ReLU(inplace=True)\n",
            "    (18): Conv2d(512, 512, kernel_size=(3, 3), stride=(1, 1), padding=(1, 1))\n",
            "    (19): BatchNorm2d(512, eps=1e-05, momentum=0.1, affine=True, track_running_stats=True)\n",
            "    (20): ReLU(inplace=True)\n",
            "    (21): MaxPool2d(kernel_size=2, stride=2, padding=0, dilation=1, ceil_mode=False)\n",
            "  )\n",
            "  (avgpool): AdaptiveAvgPool2d(output_size=(3, 3))\n",
            "  (classifier): Sequential(\n",
            "    (0): Linear(in_features=4608, out_features=512, bias=True)\n",
            "    (1): ReLU(inplace=True)\n",
            "    (2): Dropout(p=0.5, inplace=False)\n",
            "    (3): Linear(in_features=512, out_features=256, bias=True)\n",
            "    (4): ReLU(inplace=True)\n",
            "    (5): Dropout(p=0.5, inplace=False)\n",
            "    (6): Linear(in_features=256, out_features=10, bias=True)\n",
            "  )\n",
            ")\n"
          ],
          "name": "stdout"
        }
      ]
    },
    {
      "cell_type": "code",
      "metadata": {
        "id": "odbRFbbpn5uC",
        "colab_type": "code",
        "colab": {}
      },
      "source": [
        "import torch.optim as optim\n",
        "\n",
        "criterion = nn.CrossEntropyLoss()\n",
        "optimizer = optim.SGD(net.parameters(), lr = 0.001, momentum=0.9)"
      ],
      "execution_count": 19,
      "outputs": []
    },
    {
      "cell_type": "code",
      "metadata": {
        "id": "SEGK-dTKn5uF",
        "colab_type": "code",
        "colab": {
          "base_uri": "https://localhost:8080/",
          "height": 1000
        },
        "outputId": "e458dbc3-dfc7-41e2-b2c4-9b0bb467f32f"
      },
      "source": [
        "training_acc = []\n",
        "test_acc = []\n",
        "train_loss = []\n",
        "\n",
        "for epoch in range(20): # loop over the dataset 20 times (1 epoch = all training samples)\n",
        "    \n",
        "    running_loss = 0.0\n",
        "    # ith mini-batch, 1 mini-batch has 64 training samples \n",
        "    # batch size = 64\n",
        "    for i, data in enumerate(trainloader, 0):\n",
        "        # get inputs; the data is presented as a list of [inputs, labels]\n",
        "        inputs, labels = data\n",
        "        inputs = inputs.to(device)\n",
        "        labels = labels.to(device)\n",
        "        \n",
        "        # zero the parameter gradients\n",
        "        optimizer.zero_grad()\n",
        "        \n",
        "        # forward \n",
        "        outputs = net(inputs)\n",
        "        # calculate loss\n",
        "        loss = criterion(outputs, labels)\n",
        "        # backward\n",
        "        loss.backward()\n",
        "        # update parameter (optimize)\n",
        "        optimizer.step()\n",
        "        \n",
        "        # print statistics\n",
        "        running_loss += loss.item()\n",
        "        if i%125 == 124: # print every 125 mini-batches, 125*64 samples\n",
        "            print('[%d, %5d] loss: %.3f' %\n",
        "                 (epoch+1, i+1, running_loss/125))\n",
        "            # every 125 mini-batches, reset running_loss    \n",
        "            # because it is accumulated for each mini-batches\n",
        "            train_loss.append(running_loss/125)\n",
        "            running_loss = 0.0\n",
        "            \n",
        "    \n",
        "    # training and test accuracy for each epoch\n",
        "    # train\n",
        "    correct = 0\n",
        "    total = 0\n",
        "    # no_grad(): reduce memory consumption for computations\n",
        "    with torch.no_grad():\n",
        "        # load data from training set\n",
        "        for data in trainloader:\n",
        "            images, labels = data\n",
        "            images = images.to(device)\n",
        "            labels = labels.to(device)\n",
        "            outputs = net(images)\n",
        "            _, predicted = torch.max(outputs.data, 1)\n",
        "            total += labels.size(0)\n",
        "            correct += (predicted == labels).sum().item()\n",
        "        training_acc.append(100 * correct / total)\n",
        "        \n",
        "    # test     \n",
        "    correct = 0\n",
        "    total = 0\n",
        "    # no_grad(): reduce memory consumption for computations\n",
        "    with torch.no_grad():\n",
        "        # load data from test set\n",
        "        for data in testloader:\n",
        "            images, labels = data\n",
        "            images = images.to(device)\n",
        "            labels = labels.to(device)\n",
        "            outputs = net(images)\n",
        "            _, predicted = torch.max(outputs.data, 1)\n",
        "            total += labels.size(0)\n",
        "            correct += (predicted == labels).sum().item()\n",
        "        test_acc.append(100 * correct / total)    \n",
        "        \n",
        "print(\"Finished Training\")"
      ],
      "execution_count": 20,
      "outputs": [
        {
          "output_type": "stream",
          "text": [
            "[1,   125] loss: 2.118\n",
            "[1,   250] loss: 1.764\n",
            "[1,   375] loss: 1.574\n",
            "[1,   500] loss: 1.468\n",
            "[1,   625] loss: 1.343\n",
            "[1,   750] loss: 1.291\n",
            "[2,   125] loss: 1.176\n",
            "[2,   250] loss: 1.143\n",
            "[2,   375] loss: 1.083\n",
            "[2,   500] loss: 1.052\n",
            "[2,   625] loss: 1.025\n",
            "[2,   750] loss: 0.979\n",
            "[3,   125] loss: 0.883\n",
            "[3,   250] loss: 0.865\n",
            "[3,   375] loss: 0.853\n",
            "[3,   500] loss: 0.860\n",
            "[3,   625] loss: 0.821\n",
            "[3,   750] loss: 0.815\n",
            "[4,   125] loss: 0.727\n",
            "[4,   250] loss: 0.705\n",
            "[4,   375] loss: 0.720\n",
            "[4,   500] loss: 0.685\n",
            "[4,   625] loss: 0.725\n",
            "[4,   750] loss: 0.687\n",
            "[5,   125] loss: 0.584\n",
            "[5,   250] loss: 0.595\n",
            "[5,   375] loss: 0.599\n",
            "[5,   500] loss: 0.582\n",
            "[5,   625] loss: 0.571\n",
            "[5,   750] loss: 0.607\n",
            "[6,   125] loss: 0.482\n",
            "[6,   250] loss: 0.482\n",
            "[6,   375] loss: 0.528\n",
            "[6,   500] loss: 0.490\n",
            "[6,   625] loss: 0.496\n",
            "[6,   750] loss: 0.493\n",
            "[7,   125] loss: 0.392\n",
            "[7,   250] loss: 0.388\n",
            "[7,   375] loss: 0.399\n",
            "[7,   500] loss: 0.409\n",
            "[7,   625] loss: 0.416\n",
            "[7,   750] loss: 0.427\n",
            "[8,   125] loss: 0.307\n",
            "[8,   250] loss: 0.330\n",
            "[8,   375] loss: 0.360\n",
            "[8,   500] loss: 0.349\n",
            "[8,   625] loss: 0.360\n",
            "[8,   750] loss: 0.347\n",
            "[9,   125] loss: 0.265\n",
            "[9,   250] loss: 0.251\n",
            "[9,   375] loss: 0.267\n",
            "[9,   500] loss: 0.276\n",
            "[9,   625] loss: 0.289\n",
            "[9,   750] loss: 0.295\n",
            "[10,   125] loss: 0.201\n",
            "[10,   250] loss: 0.207\n",
            "[10,   375] loss: 0.230\n",
            "[10,   500] loss: 0.235\n",
            "[10,   625] loss: 0.232\n",
            "[10,   750] loss: 0.241\n",
            "[11,   125] loss: 0.162\n",
            "[11,   250] loss: 0.166\n",
            "[11,   375] loss: 0.191\n",
            "[11,   500] loss: 0.201\n",
            "[11,   625] loss: 0.190\n",
            "[11,   750] loss: 0.216\n",
            "[12,   125] loss: 0.138\n",
            "[12,   250] loss: 0.165\n",
            "[12,   375] loss: 0.159\n",
            "[12,   500] loss: 0.153\n",
            "[12,   625] loss: 0.157\n",
            "[12,   750] loss: 0.182\n",
            "[13,   125] loss: 0.117\n",
            "[13,   250] loss: 0.114\n",
            "[13,   375] loss: 0.129\n",
            "[13,   500] loss: 0.134\n",
            "[13,   625] loss: 0.135\n",
            "[13,   750] loss: 0.144\n",
            "[14,   125] loss: 0.125\n",
            "[14,   250] loss: 0.103\n",
            "[14,   375] loss: 0.114\n",
            "[14,   500] loss: 0.121\n",
            "[14,   625] loss: 0.108\n",
            "[14,   750] loss: 0.113\n",
            "[15,   125] loss: 0.089\n",
            "[15,   250] loss: 0.091\n",
            "[15,   375] loss: 0.088\n",
            "[15,   500] loss: 0.100\n",
            "[15,   625] loss: 0.100\n",
            "[15,   750] loss: 0.119\n",
            "[16,   125] loss: 0.073\n",
            "[16,   250] loss: 0.072\n",
            "[16,   375] loss: 0.073\n",
            "[16,   500] loss: 0.081\n",
            "[16,   625] loss: 0.085\n",
            "[16,   750] loss: 0.089\n",
            "[17,   125] loss: 0.064\n",
            "[17,   250] loss: 0.073\n",
            "[17,   375] loss: 0.070\n",
            "[17,   500] loss: 0.077\n",
            "[17,   625] loss: 0.081\n",
            "[17,   750] loss: 0.091\n",
            "[18,   125] loss: 0.049\n",
            "[18,   250] loss: 0.068\n",
            "[18,   375] loss: 0.059\n",
            "[18,   500] loss: 0.073\n",
            "[18,   625] loss: 0.077\n",
            "[18,   750] loss: 0.074\n",
            "[19,   125] loss: 0.060\n",
            "[19,   250] loss: 0.044\n",
            "[19,   375] loss: 0.053\n",
            "[19,   500] loss: 0.072\n",
            "[19,   625] loss: 0.076\n",
            "[19,   750] loss: 0.071\n",
            "[20,   125] loss: 0.036\n",
            "[20,   250] loss: 0.047\n",
            "[20,   375] loss: 0.055\n",
            "[20,   500] loss: 0.056\n",
            "[20,   625] loss: 0.058\n",
            "[20,   750] loss: 0.067\n",
            "Finished Training\n"
          ],
          "name": "stdout"
        }
      ]
    },
    {
      "cell_type": "markdown",
      "metadata": {
        "id": "i5ODYQdmuzrw",
        "colab_type": "text"
      },
      "source": [
        "VGG11"
      ]
    },
    {
      "cell_type": "code",
      "metadata": {
        "id": "iPU5iVq_qy1W",
        "colab_type": "code",
        "colab": {
          "base_uri": "https://localhost:8080/",
          "height": 295
        },
        "outputId": "aa6c1312-eec6-4910-86ed-137a8bb19cf2"
      },
      "source": [
        "import matplotlib.pyplot as plt\n",
        "import numpy as np\n",
        "epoch = np.linspace(1,21,20)\n",
        "fig = plt.figure()\n",
        "plt.plot(epoch, training_acc, label = 'training_accuracy')\n",
        "plt.plot(epoch, test_acc, label = 'test_accuracy')\n",
        "plt.title('Training and test accuracy for VGG11')\n",
        "plt.xlabel('Epoch')\n",
        "plt.ylabel('Accuracy')\n",
        "plt.legend()\n",
        "fig.savefig('VGG11_result.jpg')"
      ],
      "execution_count": 9,
      "outputs": [
        {
          "output_type": "display_data",
          "data": {
            "image/png": "[encoded data removed]",
            "text/plain": [
              "<Figure size 432x288 with 1 Axes>"
            ]
          },
          "metadata": {
            "tags": [],
            "needs_background": "light"
          }
        }
      ]
    },
    {
      "cell_type": "code",
      "metadata": {
        "id": "UaR4j2lhq8-F",
        "colab_type": "code",
        "colab": {
          "base_uri": "https://localhost:8080/",
          "height": 353
        },
        "outputId": "0297d5e5-63ce-4df1-d79d-24781444f5c1"
      },
      "source": [
        "training_acc"
      ],
      "execution_count": 10,
      "outputs": [
        {
          "output_type": "execute_result",
          "data": {
            "text/plain": [
              "[60.018,\n",
              " 71.396,\n",
              " 78.626,\n",
              " 82.654,\n",
              " 86.45,\n",
              " 89.474,\n",
              " 92.732,\n",
              " 93.644,\n",
              " 95.242,\n",
              " 96.258,\n",
              " 96.86,\n",
              " 97.386,\n",
              " 97.472,\n",
              " 97.508,\n",
              " 97.662,\n",
              " 97.95,\n",
              " 98.166,\n",
              " 98.276,\n",
              " 98.87,\n",
              " 98.226]"
            ]
          },
          "metadata": {
            "tags": []
          },
          "execution_count": 10
        }
      ]
    },
    {
      "cell_type": "code",
      "metadata": {
        "id": "TK1r4IJarL9h",
        "colab_type": "code",
        "colab": {
          "base_uri": "https://localhost:8080/",
          "height": 353
        },
        "outputId": "01533ee7-0ff1-4f4d-9fdb-4befd7cdd405"
      },
      "source": [
        "test_acc"
      ],
      "execution_count": 11,
      "outputs": [
        {
          "output_type": "execute_result",
          "data": {
            "text/plain": [
              "[57.81,\n",
              " 67.21,\n",
              " 71.82,\n",
              " 73.28,\n",
              " 74.51,\n",
              " 75.93,\n",
              " 76.82,\n",
              " 76.81,\n",
              " 77.78,\n",
              " 77.89,\n",
              " 77.99,\n",
              " 78.45,\n",
              " 78.42,\n",
              " 78.58,\n",
              " 78.56,\n",
              " 78.47,\n",
              " 78.18,\n",
              " 78.1,\n",
              " 79.15,\n",
              " 77.99]"
            ]
          },
          "metadata": {
            "tags": []
          },
          "execution_count": 11
        }
      ]
    },
    {
      "cell_type": "code",
      "metadata": {
        "id": "rE7PGkbGrPWE",
        "colab_type": "code",
        "colab": {}
      },
      "source": [
        ""
      ],
      "execution_count": null,
      "outputs": []
    },
    {
      "cell_type": "code",
      "metadata": {
        "id": "MbIxPJPjurex",
        "colab_type": "code",
        "colab": {}
      },
      "source": [
        ""
      ],
      "execution_count": null,
      "outputs": []
    },
    {
      "cell_type": "markdown",
      "metadata": {
        "id": "ADUr7oAHuwSz",
        "colab_type": "text"
      },
      "source": [
        "VGG11_reduced"
      ]
    },
    {
      "cell_type": "code",
      "metadata": {
        "id": "7JE-2yAsv_V_",
        "colab_type": "code",
        "colab": {
          "base_uri": "https://localhost:8080/",
          "height": 353
        },
        "outputId": "90afafe7-5f5c-4b0a-a90d-018419a5ef02"
      },
      "source": [
        "training_acc"
      ],
      "execution_count": 21,
      "outputs": [
        {
          "output_type": "execute_result",
          "data": {
            "text/plain": [
              "[56.86,\n",
              " 68.52,\n",
              " 75.076,\n",
              " 78.552,\n",
              " 84.118,\n",
              " 87.17,\n",
              " 90.114,\n",
              " 90.694,\n",
              " 93.832,\n",
              " 94.17,\n",
              " 95.806,\n",
              " 96.484,\n",
              " 96.304,\n",
              " 97.744,\n",
              " 95.976,\n",
              " 97.886,\n",
              " 97.986,\n",
              " 97.82,\n",
              " 98.54,\n",
              " 98.838]"
            ]
          },
          "metadata": {
            "tags": []
          },
          "execution_count": 21
        }
      ]
    },
    {
      "cell_type": "code",
      "metadata": {
        "id": "5lzfZ7F4wBRb",
        "colab_type": "code",
        "colab": {
          "base_uri": "https://localhost:8080/",
          "height": 353
        },
        "outputId": "09c78518-8665-4272-eb9d-2c4ec27239bf"
      },
      "source": [
        "test_acc"
      ],
      "execution_count": 22,
      "outputs": [
        {
          "output_type": "execute_result",
          "data": {
            "text/plain": [
              "[55.31,\n",
              " 65.46,\n",
              " 70.38,\n",
              " 72.3,\n",
              " 75.24,\n",
              " 76.52,\n",
              " 78.54,\n",
              " 77.24,\n",
              " 78.68,\n",
              " 78.24,\n",
              " 79.04,\n",
              " 79.16,\n",
              " 78.63,\n",
              " 79.72,\n",
              " 77.71,\n",
              " 79.43,\n",
              " 79.41,\n",
              " 79.18,\n",
              " 79.12,\n",
              " 80.45]"
            ]
          },
          "metadata": {
            "tags": []
          },
          "execution_count": 22
        }
      ]
    },
    {
      "cell_type": "code",
      "metadata": {
        "id": "r8SYz_dUuro6",
        "colab_type": "code",
        "colab": {
          "base_uri": "https://localhost:8080/",
          "height": 295
        },
        "outputId": "dd9ca9ce-5442-4f38-8c41-7f798f45cb1e"
      },
      "source": [
        "import matplotlib.pyplot as plt\n",
        "import numpy as np\n",
        "epoch = np.linspace(1,21,20)\n",
        "fig = plt.figure()\n",
        "plt.plot(epoch, training_acc, label = 'training_accuracy')\n",
        "plt.plot(epoch, test_acc, label = 'test_accuracy')\n",
        "plt.title('Training and test accuracy for VGG11_B')\n",
        "plt.xlabel('Epoch')\n",
        "plt.ylabel('Accuracy')\n",
        "plt.legend()\n",
        "fig.savefig('VGG11_B_result.jpg')"
      ],
      "execution_count": 23,
      "outputs": [
        {
          "output_type": "display_data",
          "data": {
            "image/png": "[encoded data removed]",
            "text/plain": [
              "<Figure size 432x288 with 1 Axes>"
            ]
          },
          "metadata": {
            "tags": [],
            "needs_background": "light"
          }
        }
      ]
    },
    {
      "cell_type": "code",
      "metadata": {
        "id": "SzjpPOXFw3Tb",
        "colab_type": "code",
        "colab": {}
      },
      "source": [
        ""
      ],
      "execution_count": null,
      "outputs": []
    }
  ]
}
