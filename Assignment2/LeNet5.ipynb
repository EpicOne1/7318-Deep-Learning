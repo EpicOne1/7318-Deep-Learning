{
 "cells": [
  {
   "cell_type": "markdown",
   "metadata": {},
   "source": [
    "### 1. Loading and normalizing CIFAR10"
   ]
  },
  {
   "cell_type": "code",
   "execution_count": 1,
   "metadata": {},
   "outputs": [],
   "source": [
    "import torch\n",
    "import torchvision\n",
    "import torchvision.transforms as transforms"
   ]
  },
  {
   "cell_type": "code",
   "execution_count": 2,
   "metadata": {},
   "outputs": [],
   "source": [
    "device = torch.device(\"cuda:0\" if torch.cuda.is_available() else \"cpu\")"
   ]
  },
  {
   "cell_type": "code",
   "execution_count": 3,
   "metadata": {},
   "outputs": [
    {
     "data": {
      "text/plain": [
       "device(type='cpu')"
      ]
     },
     "execution_count": 3,
     "metadata": {},
     "output_type": "execute_result"
    }
   ],
   "source": [
    "device"
   ]
  },
  {
   "cell_type": "code",
   "execution_count": 4,
   "metadata": {},
   "outputs": [
    {
     "name": "stdout",
     "output_type": "stream",
     "text": [
      "Files already downloaded and verified\n",
      "Files already downloaded and verified\n"
     ]
    }
   ],
   "source": [
    "transform = transforms.Compose([\n",
    "    transforms.ToTensor(),  \n",
    "    transforms.Normalize((0.5,0.5,0.5), (0.5,0.5,0.5))\n",
    "])\n",
    "\n",
    "trainset = torchvision.datasets.CIFAR10(root='./data', train=True,\n",
    "                                        download=True, transform=transform)\n",
    "trainloader = torch.utils.data.DataLoader(trainset, batch_size=4,\n",
    "                                          shuffle=True, num_workers=2)\n",
    "\n",
    "testset = torchvision.datasets.CIFAR10(root='./data', train=False,\n",
    "                                       download=True, transform=transform)\n",
    "testloader = torch.utils.data.DataLoader(testset, batch_size=4,\n",
    "                                         shuffle=False, num_workers=2)\n",
    "\n",
    "classes = ('plane', 'car', 'bird', 'cat',\n",
    "           'deer', 'dog', 'frog', 'horse', 'ship', 'truck')"
   ]
  },
  {
   "cell_type": "markdown",
   "metadata": {},
   "source": [
    "### 2. Define a LeNet-5"
   ]
  },
  {
   "cell_type": "code",
   "execution_count": 5,
   "metadata": {},
   "outputs": [
    {
     "name": "stdout",
     "output_type": "stream",
     "text": [
      "LeNet5(\n",
      "  (conv1): Conv2d(3, 6, kernel_size=(5, 5), stride=(1, 1))\n",
      "  (pool): MaxPool2d(kernel_size=2, stride=2, padding=0, dilation=1, ceil_mode=False)\n",
      "  (conv2): Conv2d(6, 16, kernel_size=(5, 5), stride=(1, 1))\n",
      "  (fc1): Linear(in_features=400, out_features=120, bias=True)\n",
      "  (fc2): Linear(in_features=120, out_features=84, bias=True)\n",
      "  (fc3): Linear(in_features=84, out_features=10, bias=True)\n",
      ")\n"
     ]
    }
   ],
   "source": [
    "import torch.nn as nn\n",
    "import torch.nn.functional as F\n",
    "\n",
    "class LeNet5(nn.Module):\n",
    "    def __init__(self):\n",
    "        super(LeNet5, self).__init__()\n",
    "        self.conv1 = nn.Conv2d(3, 6, 5)    # 6 filter, 5x5x3\n",
    "        self.pool = nn.MaxPool2d(2,2)      # max pool, f = 2, s = 2\n",
    "        self.conv2 = nn.Conv2d(6, 16, 5)   # 16 filter, 5x5x6\n",
    "        self.fc1 = nn.Linear(16*5*5, 120)\n",
    "        self.fc2 = nn.Linear(120, 84)\n",
    "        self.fc3 = nn.Linear(84, 10)\n",
    "\n",
    "    def forward(self, x):\n",
    "        x = self.pool(F.relu(self.conv1(x))) # layer 1 (conv1 + pool)\n",
    "        x = self.pool(F.relu(self.conv2(x))) # layer 2 (conv2 + pool)\n",
    "        x = x.view(-1, 16*5*5)               # flaten\n",
    "        x = F.relu(self.fc1(x))\n",
    "        x = F.relu(self.fc2(x))\n",
    "        x = self.fc3(x)\n",
    "        return x\n",
    "    \n",
    "net = LeNet5().to(device)\n",
    "print(net)"
   ]
  },
  {
   "cell_type": "markdown",
   "metadata": {},
   "source": [
    "### 3. Define a loss function and optimizer"
   ]
  },
  {
   "cell_type": "code",
   "execution_count": 6,
   "metadata": {},
   "outputs": [],
   "source": [
    "import torch.optim as optim\n",
    "\n",
    "criterion = nn.CrossEntropyLoss()\n",
    "optimizer = optim.SGD(net.parameters(), lr = 0.001, momentum=0.9)"
   ]
  },
  {
   "cell_type": "markdown",
   "metadata": {},
   "source": [
    "### 4. Train our CNN"
   ]
  },
  {
   "cell_type": "code",
   "execution_count": 7,
   "metadata": {},
   "outputs": [
    {
     "name": "stdout",
     "output_type": "stream",
     "text": [
      "[1,  2000] loss: 2.251\n",
      "[1,  4000] loss: 1.910\n",
      "[1,  6000] loss: 1.694\n",
      "[1,  8000] loss: 1.608\n",
      "[1, 10000] loss: 1.536\n",
      "[1, 12000] loss: 1.483\n",
      "[2,  2000] loss: 1.389\n",
      "[2,  4000] loss: 1.368\n",
      "[2,  6000] loss: 1.354\n",
      "[2,  8000] loss: 1.345\n",
      "[2, 10000] loss: 1.298\n",
      "[2, 12000] loss: 1.292\n",
      "[3,  2000] loss: 1.211\n",
      "[3,  4000] loss: 1.222\n",
      "[3,  6000] loss: 1.195\n",
      "[3,  8000] loss: 1.193\n",
      "[3, 10000] loss: 1.174\n",
      "[3, 12000] loss: 1.147\n",
      "[4,  2000] loss: 1.087\n",
      "[4,  4000] loss: 1.099\n",
      "[4,  6000] loss: 1.092\n",
      "[4,  8000] loss: 1.092\n",
      "[4, 10000] loss: 1.116\n",
      "[4, 12000] loss: 1.085\n",
      "[5,  2000] loss: 0.990\n",
      "[5,  4000] loss: 1.023\n",
      "[5,  6000] loss: 1.029\n",
      "[5,  8000] loss: 1.055\n",
      "[5, 10000] loss: 1.046\n",
      "[5, 12000] loss: 1.002\n",
      "[6,  2000] loss: 0.957\n",
      "[6,  4000] loss: 0.976\n",
      "[6,  6000] loss: 0.980\n",
      "[6,  8000] loss: 0.965\n",
      "[6, 10000] loss: 0.986\n",
      "[6, 12000] loss: 0.984\n",
      "[7,  2000] loss: 0.901\n",
      "[7,  4000] loss: 0.917\n",
      "[7,  6000] loss: 0.921\n",
      "[7,  8000] loss: 0.934\n",
      "[7, 10000] loss: 0.953\n",
      "[7, 12000] loss: 0.947\n",
      "[8,  2000] loss: 0.834\n",
      "[8,  4000] loss: 0.874\n",
      "[8,  6000] loss: 0.898\n",
      "[8,  8000] loss: 0.914\n",
      "[8, 10000] loss: 0.882\n",
      "[8, 12000] loss: 0.952\n",
      "[9,  2000] loss: 0.801\n",
      "[9,  4000] loss: 0.836\n",
      "[9,  6000] loss: 0.869\n",
      "[9,  8000] loss: 0.868\n",
      "[9, 10000] loss: 0.881\n",
      "[9, 12000] loss: 0.878\n",
      "[10,  2000] loss: 0.788\n",
      "[10,  4000] loss: 0.812\n",
      "[10,  6000] loss: 0.834\n",
      "[10,  8000] loss: 0.833\n",
      "[10, 10000] loss: 0.851\n",
      "[10, 12000] loss: 0.875\n",
      "[11,  2000] loss: 0.752\n",
      "[11,  4000] loss: 0.792\n",
      "[11,  6000] loss: 0.790\n",
      "[11,  8000] loss: 0.815\n",
      "[11, 10000] loss: 0.833\n",
      "[11, 12000] loss: 0.842\n",
      "[12,  2000] loss: 0.711\n",
      "[12,  4000] loss: 0.768\n",
      "[12,  6000] loss: 0.782\n",
      "[12,  8000] loss: 0.793\n",
      "[12, 10000] loss: 0.811\n",
      "[12, 12000] loss: 0.797\n",
      "[13,  2000] loss: 0.706\n",
      "[13,  4000] loss: 0.751\n",
      "[13,  6000] loss: 0.749\n",
      "[13,  8000] loss: 0.781\n",
      "[13, 10000] loss: 0.815\n",
      "[13, 12000] loss: 0.799\n",
      "[14,  2000] loss: 0.692\n",
      "[14,  4000] loss: 0.724\n",
      "[14,  6000] loss: 0.749\n",
      "[14,  8000] loss: 0.763\n",
      "[14, 10000] loss: 0.768\n",
      "[14, 12000] loss: 0.760\n",
      "[15,  2000] loss: 0.673\n",
      "[15,  4000] loss: 0.679\n",
      "[15,  6000] loss: 0.726\n",
      "[15,  8000] loss: 0.744\n",
      "[15, 10000] loss: 0.735\n",
      "[15, 12000] loss: 0.773\n",
      "[16,  2000] loss: 0.640\n",
      "[16,  4000] loss: 0.679\n",
      "[16,  6000] loss: 0.691\n",
      "[16,  8000] loss: 0.754\n",
      "[16, 10000] loss: 0.752\n",
      "[16, 12000] loss: 0.750\n",
      "[17,  2000] loss: 0.655\n",
      "[17,  4000] loss: 0.669\n",
      "[17,  6000] loss: 0.709\n",
      "[17,  8000] loss: 0.704\n",
      "[17, 10000] loss: 0.734\n",
      "[17, 12000] loss: 0.759\n",
      "[18,  2000] loss: 0.632\n",
      "[18,  4000] loss: 0.675\n",
      "[18,  6000] loss: 0.664\n",
      "[18,  8000] loss: 0.710\n",
      "[18, 10000] loss: 0.714\n",
      "[18, 12000] loss: 0.720\n",
      "[19,  2000] loss: 0.619\n",
      "[19,  4000] loss: 0.640\n",
      "[19,  6000] loss: 0.685\n",
      "[19,  8000] loss: 0.658\n",
      "[19, 10000] loss: 0.708\n",
      "[19, 12000] loss: 0.699\n",
      "[20,  2000] loss: 0.585\n",
      "[20,  4000] loss: 0.651\n",
      "[20,  6000] loss: 0.678\n",
      "[20,  8000] loss: 0.690\n",
      "[20, 10000] loss: 0.705\n",
      "[20, 12000] loss: 0.722\n",
      "Finished Training\n"
     ]
    }
   ],
   "source": [
    "training_acc = []\n",
    "test_acc = []\n",
    "\n",
    "for epoch in range(20): # loop over the dataset 20 times (1 epoch = all training samples)\n",
    "    \n",
    "    running_loss = 0.0\n",
    "    # ith mini-batch, 1 mini-batch has 4 training samples \n",
    "    # batch size = 4\n",
    "    for i, data in enumerate(trainloader, 0):\n",
    "        # get inputs; the data is presented as a list of [inputs, labels]\n",
    "        inputs, labels = data\n",
    "        inputs = inputs.to(device)\n",
    "        labels = labels.to(device)\n",
    "        \n",
    "        # zero the parameter gradients\n",
    "        optimizer.zero_grad()\n",
    "        \n",
    "        # forward \n",
    "        outputs = net(inputs)\n",
    "        # calculate loss\n",
    "        loss = criterion(outputs, labels)\n",
    "        # backward\n",
    "        loss.backward()\n",
    "        # update parameter (optimize)\n",
    "        optimizer.step()\n",
    "        \n",
    "        # print statistics\n",
    "        running_loss += loss.item()\n",
    "        if i%2000 == 1999: # print every 2000 mini-batches, 2000*4 samples\n",
    "            print('[%d, %5d] loss: %.3f' %\n",
    "                 (epoch+1, i+1, running_loss/2000))\n",
    "            # every 2000 mini-batches, reset running_loss    \n",
    "            # because it is accumulated for each mini-batches\n",
    "            running_loss = 0.0\n",
    "    \n",
    "    # training and test accuracy for each epoch\n",
    "    # train\n",
    "    correct = 0\n",
    "    total = 0\n",
    "    # no_grad(): reduce memory consumption for computations\n",
    "    with torch.no_grad():\n",
    "        # load data from training set\n",
    "        for data in trainloader:\n",
    "            images, labels = data\n",
    "            images = images.to(device)\n",
    "            labels = labels.to(device)\n",
    "            outputs = net(images)\n",
    "            _, predicted = torch.max(outputs.data, 1)\n",
    "            total += labels.size(0)\n",
    "            correct += (predicted == labels).sum().item()\n",
    "        training_acc.append(100 * correct / total)\n",
    "        \n",
    "    # test     \n",
    "    correct = 0\n",
    "    total = 0\n",
    "    # no_grad(): reduce memory consumption for computations\n",
    "    with torch.no_grad():\n",
    "        # load data from test set\n",
    "        for data in testloader:\n",
    "            images, labels = data\n",
    "            images = images.to(device)\n",
    "            labels = labels.to(device)\n",
    "            outputs = net(images)\n",
    "            _, predicted = torch.max(outputs.data, 1)\n",
    "            total += labels.size(0)\n",
    "            correct += (predicted == labels).sum().item()\n",
    "        test_acc.append(100 * correct / total)    \n",
    "        \n",
    "print(\"Finished Training\")"
   ]
  },
  {
   "cell_type": "code",
   "execution_count": 8,
   "metadata": {},
   "outputs": [
    {
     "data": {
      "text/plain": [
       "[49.926,\n",
       " 54.218,\n",
       " 61.472,\n",
       " 64.822,\n",
       " 67.176,\n",
       " 69.332,\n",
       " 70.438,\n",
       " 72.106,\n",
       " 72.218,\n",
       " 73.144,\n",
       " 73.834,\n",
       " 71.982,\n",
       " 76.182,\n",
       " 75.164,\n",
       " 76.774,\n",
       " 76.16,\n",
       " 77.554,\n",
       " 78.09,\n",
       " 80.66,\n",
       " 78.948]"
      ]
     },
     "execution_count": 8,
     "metadata": {},
     "output_type": "execute_result"
    }
   ],
   "source": [
    "training_acc"
   ]
  },
  {
   "cell_type": "code",
   "execution_count": 9,
   "metadata": {},
   "outputs": [
    {
     "data": {
      "text/plain": [
       "[49.44,\n",
       " 52.05,\n",
       " 58.37,\n",
       " 60.39,\n",
       " 62.04,\n",
       " 61.98,\n",
       " 61.8,\n",
       " 63.15,\n",
       " 61.84,\n",
       " 62.36,\n",
       " 62.06,\n",
       " 60.12,\n",
       " 62.07,\n",
       " 61.32,\n",
       " 61.48,\n",
       " 60.74,\n",
       " 60.73,\n",
       " 60.79,\n",
       " 61.65,\n",
       " 60.73]"
      ]
     },
     "execution_count": 9,
     "metadata": {},
     "output_type": "execute_result"
    }
   ],
   "source": [
    "test_acc"
   ]
  },
  {
   "cell_type": "code",
   "execution_count": 10,
   "metadata": {},
   "outputs": [],
   "source": [
    "PATH = './LeNet-5.pth'\n",
    "torch.save(net.state_dict(), PATH)"
   ]
  },
  {
   "cell_type": "code",
   "execution_count": 11,
   "metadata": {},
   "outputs": [
    {
     "data": {
      "text/plain": [
       "<All keys matched successfully>"
      ]
     },
     "execution_count": 11,
     "metadata": {},
     "output_type": "execute_result"
    }
   ],
   "source": [
    "net = LeNet5()\n",
    "net.load_state_dict(torch.load(PATH))"
   ]
  },
  {
   "cell_type": "code",
   "execution_count": 2,
   "metadata": {},
   "outputs": [],
   "source": [
    "# training_accuracy = [48.944, 56.508, 61.664, 64.098, 66.466, 65.324, 68.696, 72.89, 72.636, 73.174]\n",
    "# test_accuracy = [49.03, 54.75, 59.24, 60.17, 61.07, 58.97, 60.9, 62.37, 62.47, 62.71]"
   ]
  },
  {
   "cell_type": "code",
   "execution_count": 28,
   "metadata": {},
   "outputs": [
    {
     "data": {
      "image/png": "[encoded data removed]",
      "text/plain": [
       "<Figure size 432x288 with 1 Axes>"
      ]
     },
     "metadata": {
      "needs_background": "light"
     },
     "output_type": "display_data"
    }
   ],
   "source": [
    "import matplotlib.pyplot as plt\n",
    "import numpy as np\n",
    "epoch = np.linspace(1,21,20)\n",
    "fig = plt.figure()\n",
    "plt.plot(epoch, training_acc, label = 'training_accuracy')\n",
    "plt.plot(epoch, test_acc, label = 'test_accuracy')\n",
    "plt.title('Training and test accuracy')\n",
    "plt.xlabel('Epoch')\n",
    "plt.ylabel('Accuracy')\n",
    "plt.legend()\n",
    "fig.savefig('LeNet5_result.jpg')"
   ]
  },
  {
   "cell_type": "code",
   "execution_count": null,
   "metadata": {},
   "outputs": [],
   "source": []
  }
 ],
 "metadata": {
  "kernelspec": {
   "display_name": "Python 3",
   "language": "python",
   "name": "python3"
  },
  "language_info": {
   "codemirror_mode": {
    "name": "ipython",
    "version": 3
   },
   "file_extension": ".py",
   "mimetype": "text/x-python",
   "name": "python",
   "nbconvert_exporter": "python",
   "pygments_lexer": "ipython3",
   "version": "3.7.7"
  }
 },
 "nbformat": 4,
 "nbformat_minor": 2
}
