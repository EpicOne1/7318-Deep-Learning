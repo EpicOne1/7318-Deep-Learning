{
  "nbformat": 4,
  "nbformat_minor": 0,
  "metadata": {
    "kernelspec": {
      "display_name": "Python 3",
      "language": "python",
      "name": "python3"
    },
    "language_info": {
      "codemirror_mode": {
        "name": "ipython",
        "version": 3
      },
      "file_extension": ".py",
      "mimetype": "text/x-python",
      "name": "python",
      "nbconvert_exporter": "python",
      "pygments_lexer": "ipython3",
      "version": "3.7.7"
    },
    "colab": {
      "name": "VGG11.ipynb",
      "provenance": [],
      "include_colab_link": true
    },
    "accelerator": "GPU",
    "widgets": {
      "application/vnd.jupyter.widget-state+json": {
        "8a11d30f34514f55b0a5a61dfc053b01": {
          "model_module": "@jupyter-widgets/controls",
          "model_name": "HBoxModel",
          "state": {
            "_view_name": "HBoxView",
            "_dom_classes": [],
            "_model_name": "HBoxModel",
            "_view_module": "@jupyter-widgets/controls",
            "_model_module_version": "1.5.0",
            "_view_count": null,
            "_view_module_version": "1.5.0",
            "box_style": "",
            "layout": "IPY_MODEL_3ad98728eb5744cfa196eaf43a5cd108",
            "_model_module": "@jupyter-widgets/controls",
            "children": [
              "IPY_MODEL_4113a881802248ea9c44e7298921faab",
              "IPY_MODEL_7634feb2a77f455c9df6388b7ced4a94"
            ]
          }
        },
        "3ad98728eb5744cfa196eaf43a5cd108": {
          "model_module": "@jupyter-widgets/base",
          "model_name": "LayoutModel",
          "state": {
            "_view_name": "LayoutView",
            "grid_template_rows": null,
            "right": null,
            "justify_content": null,
            "_view_module": "@jupyter-widgets/base",
            "overflow": null,
            "_model_module_version": "1.2.0",
            "_view_count": null,
            "flex_flow": null,
            "width": null,
            "min_width": null,
            "border": null,
            "align_items": null,
            "bottom": null,
            "_model_module": "@jupyter-widgets/base",
            "top": null,
            "grid_column": null,
            "overflow_y": null,
            "overflow_x": null,
            "grid_auto_flow": null,
            "grid_area": null,
            "grid_template_columns": null,
            "flex": null,
            "_model_name": "LayoutModel",
            "justify_items": null,
            "grid_row": null,
            "max_height": null,
            "align_content": null,
            "visibility": null,
            "align_self": null,
            "height": null,
            "min_height": null,
            "padding": null,
            "grid_auto_rows": null,
            "grid_gap": null,
            "max_width": null,
            "order": null,
            "_view_module_version": "1.2.0",
            "grid_template_areas": null,
            "object_position": null,
            "object_fit": null,
            "grid_auto_columns": null,
            "margin": null,
            "display": null,
            "left": null
          }
        },
        "4113a881802248ea9c44e7298921faab": {
          "model_module": "@jupyter-widgets/controls",
          "model_name": "FloatProgressModel",
          "state": {
            "_view_name": "ProgressView",
            "style": "IPY_MODEL_b29d90ac8d3d4d0e80fc588caf2da56f",
            "_dom_classes": [],
            "description": "",
            "_model_name": "FloatProgressModel",
            "bar_style": "info",
            "max": 1,
            "_view_module": "@jupyter-widgets/controls",
            "_model_module_version": "1.5.0",
            "value": 1,
            "_view_count": null,
            "_view_module_version": "1.5.0",
            "orientation": "horizontal",
            "min": 0,
            "description_tooltip": null,
            "_model_module": "@jupyter-widgets/controls",
            "layout": "IPY_MODEL_519f08427b884d86b088e657e14ebb56"
          }
        },
        "7634feb2a77f455c9df6388b7ced4a94": {
          "model_module": "@jupyter-widgets/controls",
          "model_name": "HTMLModel",
          "state": {
            "_view_name": "HTMLView",
            "style": "IPY_MODEL_91406ef9bf4c42ebba1fd3149924143b",
            "_dom_classes": [],
            "description": "",
            "_model_name": "HTMLModel",
            "placeholder": "​",
            "_view_module": "@jupyter-widgets/controls",
            "_model_module_version": "1.5.0",
            "value": " 170500096/? [00:20&lt;00:00, 23045660.10it/s]",
            "_view_count": null,
            "_view_module_version": "1.5.0",
            "description_tooltip": null,
            "_model_module": "@jupyter-widgets/controls",
            "layout": "IPY_MODEL_f1286deb9ac0456e86f300b825f64869"
          }
        },
        "b29d90ac8d3d4d0e80fc588caf2da56f": {
          "model_module": "@jupyter-widgets/controls",
          "model_name": "ProgressStyleModel",
          "state": {
            "_view_name": "StyleView",
            "_model_name": "ProgressStyleModel",
            "description_width": "initial",
            "_view_module": "@jupyter-widgets/base",
            "_model_module_version": "1.5.0",
            "_view_count": null,
            "_view_module_version": "1.2.0",
            "bar_color": null,
            "_model_module": "@jupyter-widgets/controls"
          }
        },
        "519f08427b884d86b088e657e14ebb56": {
          "model_module": "@jupyter-widgets/base",
          "model_name": "LayoutModel",
          "state": {
            "_view_name": "LayoutView",
            "grid_template_rows": null,
            "right": null,
            "justify_content": null,
            "_view_module": "@jupyter-widgets/base",
            "overflow": null,
            "_model_module_version": "1.2.0",
            "_view_count": null,
            "flex_flow": null,
            "width": null,
            "min_width": null,
            "border": null,
            "align_items": null,
            "bottom": null,
            "_model_module": "@jupyter-widgets/base",
            "top": null,
            "grid_column": null,
            "overflow_y": null,
            "overflow_x": null,
            "grid_auto_flow": null,
            "grid_area": null,
            "grid_template_columns": null,
            "flex": null,
            "_model_name": "LayoutModel",
            "justify_items": null,
            "grid_row": null,
            "max_height": null,
            "align_content": null,
            "visibility": null,
            "align_self": null,
            "height": null,
            "min_height": null,
            "padding": null,
            "grid_auto_rows": null,
            "grid_gap": null,
            "max_width": null,
            "order": null,
            "_view_module_version": "1.2.0",
            "grid_template_areas": null,
            "object_position": null,
            "object_fit": null,
            "grid_auto_columns": null,
            "margin": null,
            "display": null,
            "left": null
          }
        },
        "91406ef9bf4c42ebba1fd3149924143b": {
          "model_module": "@jupyter-widgets/controls",
          "model_name": "DescriptionStyleModel",
          "state": {
            "_view_name": "StyleView",
            "_model_name": "DescriptionStyleModel",
            "description_width": "",
            "_view_module": "@jupyter-widgets/base",
            "_model_module_version": "1.5.0",
            "_view_count": null,
            "_view_module_version": "1.2.0",
            "_model_module": "@jupyter-widgets/controls"
          }
        },
        "f1286deb9ac0456e86f300b825f64869": {
          "model_module": "@jupyter-widgets/base",
          "model_name": "LayoutModel",
          "state": {
            "_view_name": "LayoutView",
            "grid_template_rows": null,
            "right": null,
            "justify_content": null,
            "_view_module": "@jupyter-widgets/base",
            "overflow": null,
            "_model_module_version": "1.2.0",
            "_view_count": null,
            "flex_flow": null,
            "width": null,
            "min_width": null,
            "border": null,
            "align_items": null,
            "bottom": null,
            "_model_module": "@jupyter-widgets/base",
            "top": null,
            "grid_column": null,
            "overflow_y": null,
            "overflow_x": null,
            "grid_auto_flow": null,
            "grid_area": null,
            "grid_template_columns": null,
            "flex": null,
            "_model_name": "LayoutModel",
            "justify_items": null,
            "grid_row": null,
            "max_height": null,
            "align_content": null,
            "visibility": null,
            "align_self": null,
            "height": null,
            "min_height": null,
            "padding": null,
            "grid_auto_rows": null,
            "grid_gap": null,
            "max_width": null,
            "order": null,
            "_view_module_version": "1.2.0",
            "grid_template_areas": null,
            "object_position": null,
            "object_fit": null,
            "grid_auto_columns": null,
            "margin": null,
            "display": null,
            "left": null
          }
        }
      }
    }
  },
  "cells": [
    {
      "cell_type": "markdown",
      "metadata": {
        "id": "view-in-github",
        "colab_type": "text"
      },
      "source": [
        "<a href=\"https://colab.research.google.com/github/EpicOne1/7318-Deep-Learning/blob/master/VGG11.ipynb\" target=\"_parent\"><img src=\"https://colab.research.google.com/assets/colab-badge.svg\" alt=\"Open In Colab\"/></a>"
      ]
    },
    {
      "cell_type": "code",
      "metadata": {
        "id": "uBB8WxTnn5tp",
        "colab_type": "code",
        "colab": {}
      },
      "source": [
        "import torch\n",
        "import torchvision\n",
        "import torchvision.transforms as transforms"
      ],
      "execution_count": 1,
      "outputs": []
    },
    {
      "cell_type": "code",
      "metadata": {
        "id": "s3ZYhbjWn5tw",
        "colab_type": "code",
        "colab": {}
      },
      "source": [
        "device = torch.device(\"cuda:0\" if torch.cuda.is_available() else \"cpu\")"
      ],
      "execution_count": 2,
      "outputs": []
    },
    {
      "cell_type": "code",
      "metadata": {
        "id": "WD-i9i2Cn5t0",
        "colab_type": "code",
        "colab": {
          "base_uri": "https://localhost:8080/",
          "height": 34
        },
        "outputId": "1b4b240e-8bfe-4f02-b0d2-90572405a39b"
      },
      "source": [
        "device"
      ],
      "execution_count": 3,
      "outputs": [
        {
          "output_type": "execute_result",
          "data": {
            "text/plain": [
              "device(type='cuda', index=0)"
            ]
          },
          "metadata": {
            "tags": []
          },
          "execution_count": 3
        }
      ]
    },
    {
      "cell_type": "code",
      "metadata": {
        "id": "MUlzssfFn5t5",
        "colab_type": "code",
        "colab": {
          "base_uri": "https://localhost:8080/",
          "height": 99,
          "referenced_widgets": [
            "8a11d30f34514f55b0a5a61dfc053b01",
            "3ad98728eb5744cfa196eaf43a5cd108",
            "4113a881802248ea9c44e7298921faab",
            "7634feb2a77f455c9df6388b7ced4a94",
            "b29d90ac8d3d4d0e80fc588caf2da56f",
            "519f08427b884d86b088e657e14ebb56",
            "91406ef9bf4c42ebba1fd3149924143b",
            "f1286deb9ac0456e86f300b825f64869"
          ]
        },
        "outputId": "85d1da23-a173-48b8-cf3c-142e4061c1b3"
      },
      "source": [
        "transform = transforms.Compose([\n",
        "    transforms.ToTensor(),  \n",
        "    transforms.Normalize((0.5,0.5,0.5), (0.5,0.5,0.5))\n",
        "])\n",
        "\n",
        "trainset = torchvision.datasets.CIFAR10(root='./data', train=True,\n",
        "                                        download=True, transform=transform)\n",
        "trainloader = torch.utils.data.DataLoader(trainset, batch_size=64,\n",
        "                                          shuffle=True, num_workers=2)\n",
        "\n",
        "testset = torchvision.datasets.CIFAR10(root='./data', train=False,\n",
        "                                       download=True, transform=transform)\n",
        "testloader = torch.utils.data.DataLoader(testset, batch_size=64,\n",
        "                                         shuffle=False, num_workers=2)\n",
        "\n",
        "classes = ('plane', 'car', 'bird', 'cat',\n",
        "           'deer', 'dog', 'frog', 'horse', 'ship', 'truck')"
      ],
      "execution_count": 4,
      "outputs": [
        {
          "output_type": "stream",
          "text": [
            "Downloading https://www.cs.toronto.edu/~kriz/cifar-10-python.tar.gz to ./data/cifar-10-python.tar.gz\n"
          ],
          "name": "stdout"
        },
        {
          "output_type": "display_data",
          "data": {
            "application/vnd.jupyter.widget-view+json": {
              "model_id": "8a11d30f34514f55b0a5a61dfc053b01",
              "version_minor": 0,
              "version_major": 2
            },
            "text/plain": [
              "HBox(children=(FloatProgress(value=1.0, bar_style='info', max=1.0), HTML(value='')))"
            ]
          },
          "metadata": {
            "tags": []
          }
        },
        {
          "output_type": "stream",
          "text": [
            "Extracting ./data/cifar-10-python.tar.gz to ./data\n",
            "Files already downloaded and verified\n"
          ],
          "name": "stdout"
        }
      ]
    },
    {
      "cell_type": "code",
      "metadata": {
        "id": "LK7plEM8n5t-",
        "colab_type": "code",
        "colab": {
          "base_uri": "https://localhost:8080/",
          "height": 739
        },
        "outputId": "f56d1673-56d0-4e56-d83a-e6f90b564f47"
      },
      "source": [
        "import torch.nn as nn\n",
        "import torch.nn.functional as F\n",
        "\n",
        "# VGG11 ConvNet configuration is 'A', 'M' = Max pooling layer\n",
        "cfgs = {'A': [64, 'M', 128, 'M', 256, 256, 'M', 512, 512, 'M', 512, 512, 'M']}\n",
        "\n",
        "def make_layers(cfg):\n",
        "    layers = []\n",
        "    in_channels = 3\n",
        "    for v in cfg:\n",
        "        if v == 'M':\n",
        "            layers += [nn.MaxPool2d(kernel_size=2, stride=2)]\n",
        "        else: \n",
        "            # add convolutional layer and Batch Norm\n",
        "            layers.append(nn.Conv2d(in_channels=in_channels,\n",
        "                                    out_channels=v,\n",
        "                                    kernel_size=3,\n",
        "                                    stride=1,\n",
        "                                    padding=1,\n",
        "                                    bias=True))\n",
        "            layers.append(nn.BatchNorm2d(v))\n",
        "            layers.append(nn.ReLU(inplace=True))\n",
        "            in_channels = v\n",
        "    return nn.Sequential(*layers)\n",
        "\n",
        "\n",
        "\n",
        "class VGG(nn.Module):\n",
        "    # 10 classes\n",
        "    def __init__(self, num_classes=10):\n",
        "        super(VGG, self).__init__()\n",
        "        # VGG11\n",
        "        cfg = cfgs['A']\n",
        "        self.layers = make_layers(cfg)\n",
        "        self.avgpool = nn.AdaptiveAvgPool2d((3,3)) # change 7x7 to 3x3\n",
        "        self.classifier = nn.Sequential(\n",
        "            nn.Linear(512*3*3, 512), #fc1\n",
        "            nn.ReLU(True),\n",
        "            nn.Dropout(),\n",
        "            nn.Linear(512,256), #fc2\n",
        "            nn.ReLU(True),\n",
        "            nn.Dropout(),\n",
        "            nn.Linear(256, num_classes) #fc3\n",
        "        )\n",
        "            \n",
        "    def forward(self,x):\n",
        "        x = self.layers(x)\n",
        "        x = self.avgpool(x)\n",
        "        x = torch.flatten(x,1)\n",
        "        x = self.classifier(x)\n",
        "        return x\n",
        "    \n",
        "net = VGG().to(device)\n",
        "print(net)"
      ],
      "execution_count": 5,
      "outputs": [
        {
          "output_type": "stream",
          "text": [
            "VGG(\n",
            "  (layers): Sequential(\n",
            "    (0): Conv2d(3, 64, kernel_size=(3, 3), stride=(1, 1), padding=(1, 1))\n",
            "    (1): BatchNorm2d(64, eps=1e-05, momentum=0.1, affine=True, track_running_stats=True)\n",
            "    (2): ReLU(inplace=True)\n",
            "    (3): MaxPool2d(kernel_size=2, stride=2, padding=0, dilation=1, ceil_mode=False)\n",
            "    (4): Conv2d(64, 128, kernel_size=(3, 3), stride=(1, 1), padding=(1, 1))\n",
            "    (5): BatchNorm2d(128, eps=1e-05, momentum=0.1, affine=True, track_running_stats=True)\n",
            "    (6): ReLU(inplace=True)\n",
            "    (7): MaxPool2d(kernel_size=2, stride=2, padding=0, dilation=1, ceil_mode=False)\n",
            "    (8): Conv2d(128, 256, kernel_size=(3, 3), stride=(1, 1), padding=(1, 1))\n",
            "    (9): BatchNorm2d(256, eps=1e-05, momentum=0.1, affine=True, track_running_stats=True)\n",
            "    (10): ReLU(inplace=True)\n",
            "    (11): Conv2d(256, 256, kernel_size=(3, 3), stride=(1, 1), padding=(1, 1))\n",
            "    (12): BatchNorm2d(256, eps=1e-05, momentum=0.1, affine=True, track_running_stats=True)\n",
            "    (13): ReLU(inplace=True)\n",
            "    (14): MaxPool2d(kernel_size=2, stride=2, padding=0, dilation=1, ceil_mode=False)\n",
            "    (15): Conv2d(256, 512, kernel_size=(3, 3), stride=(1, 1), padding=(1, 1))\n",
            "    (16): BatchNorm2d(512, eps=1e-05, momentum=0.1, affine=True, track_running_stats=True)\n",
            "    (17): ReLU(inplace=True)\n",
            "    (18): Conv2d(512, 512, kernel_size=(3, 3), stride=(1, 1), padding=(1, 1))\n",
            "    (19): BatchNorm2d(512, eps=1e-05, momentum=0.1, affine=True, track_running_stats=True)\n",
            "    (20): ReLU(inplace=True)\n",
            "    (21): MaxPool2d(kernel_size=2, stride=2, padding=0, dilation=1, ceil_mode=False)\n",
            "    (22): Conv2d(512, 512, kernel_size=(3, 3), stride=(1, 1), padding=(1, 1))\n",
            "    (23): BatchNorm2d(512, eps=1e-05, momentum=0.1, affine=True, track_running_stats=True)\n",
            "    (24): ReLU(inplace=True)\n",
            "    (25): Conv2d(512, 512, kernel_size=(3, 3), stride=(1, 1), padding=(1, 1))\n",
            "    (26): BatchNorm2d(512, eps=1e-05, momentum=0.1, affine=True, track_running_stats=True)\n",
            "    (27): ReLU(inplace=True)\n",
            "    (28): MaxPool2d(kernel_size=2, stride=2, padding=0, dilation=1, ceil_mode=False)\n",
            "  )\n",
            "  (avgpool): AdaptiveAvgPool2d(output_size=(3, 3))\n",
            "  (classifier): Sequential(\n",
            "    (0): Linear(in_features=4608, out_features=512, bias=True)\n",
            "    (1): ReLU(inplace=True)\n",
            "    (2): Dropout(p=0.5, inplace=False)\n",
            "    (3): Linear(in_features=512, out_features=256, bias=True)\n",
            "    (4): ReLU(inplace=True)\n",
            "    (5): Dropout(p=0.5, inplace=False)\n",
            "    (6): Linear(in_features=256, out_features=10, bias=True)\n",
            "  )\n",
            ")\n"
          ],
          "name": "stdout"
        }
      ]
    },
    {
      "cell_type": "code",
      "metadata": {
        "id": "odbRFbbpn5uC",
        "colab_type": "code",
        "colab": {}
      },
      "source": [
        "import torch.optim as optim\n",
        "\n",
        "criterion = nn.CrossEntropyLoss()\n",
        "optimizer = optim.SGD(net.parameters(), lr = 0.001, momentum=0.9)"
      ],
      "execution_count": 6,
      "outputs": []
    },
    {
      "cell_type": "code",
      "metadata": {
        "id": "SEGK-dTKn5uF",
        "colab_type": "code",
        "colab": {
          "base_uri": "https://localhost:8080/",
          "height": 1000
        },
        "outputId": "4f998670-f4ad-4dec-80a2-a70002c8b9f2"
      },
      "source": [
        "training_acc = []\n",
        "test_acc = []\n",
        "train_loss = []\n",
        "\n",
        "for epoch in range(20): # loop over the dataset 20 times (1 epoch = all training samples)\n",
        "    \n",
        "    running_loss = 0.0\n",
        "    # ith mini-batch, 1 mini-batch has 64 training samples \n",
        "    # batch size = 64\n",
        "    for i, data in enumerate(trainloader, 0):\n",
        "        # get inputs; the data is presented as a list of [inputs, labels]\n",
        "        inputs, labels = data\n",
        "        inputs = inputs.to(device)\n",
        "        labels = labels.to(device)\n",
        "        \n",
        "        # zero the parameter gradients\n",
        "        optimizer.zero_grad()\n",
        "        \n",
        "        # forward \n",
        "        outputs = net(inputs)\n",
        "        # calculate loss\n",
        "        loss = criterion(outputs, labels)\n",
        "        # backward\n",
        "        loss.backward()\n",
        "        # update parameter (optimize)\n",
        "        optimizer.step()\n",
        "        \n",
        "        # print statistics\n",
        "        running_loss += loss.item()\n",
        "        if i%125 == 124: # print every 125 mini-batches, 125*64 samples\n",
        "            print('[%d, %5d] loss: %.3f' %\n",
        "                 (epoch+1, i+1, running_loss/125))\n",
        "            # every 125 mini-batches, reset running_loss    \n",
        "            # because it is accumulated for each mini-batches\n",
        "            train_loss.append(running_loss/125)\n",
        "            running_loss = 0.0\n",
        "            \n",
        "    \n",
        "    # training and test accuracy for each epoch\n",
        "    # train\n",
        "    correct = 0\n",
        "    total = 0\n",
        "    # no_grad(): reduce memory consumption for computations\n",
        "    with torch.no_grad():\n",
        "        # load data from training set\n",
        "        for data in trainloader:\n",
        "            images, labels = data\n",
        "            images = images.to(device)\n",
        "            labels = labels.to(device)\n",
        "            outputs = net(images)\n",
        "            _, predicted = torch.max(outputs.data, 1)\n",
        "            total += labels.size(0)\n",
        "            correct += (predicted == labels).sum().item()\n",
        "        training_acc.append(100 * correct / total)\n",
        "        \n",
        "    # test     \n",
        "    correct = 0\n",
        "    total = 0\n",
        "    # no_grad(): reduce memory consumption for computations\n",
        "    with torch.no_grad():\n",
        "        # load data from test set\n",
        "        for data in testloader:\n",
        "            images, labels = data\n",
        "            images = images.to(device)\n",
        "            labels = labels.to(device)\n",
        "            outputs = net(images)\n",
        "            _, predicted = torch.max(outputs.data, 1)\n",
        "            total += labels.size(0)\n",
        "            correct += (predicted == labels).sum().item()\n",
        "        test_acc.append(100 * correct / total)    \n",
        "        \n",
        "print(\"Finished Training\")"
      ],
      "execution_count": 7,
      "outputs": [
        {
          "output_type": "stream",
          "text": [
            "[1,   125] loss: 2.076\n",
            "[1,   250] loss: 1.698\n",
            "[1,   375] loss: 1.488\n",
            "[1,   500] loss: 1.363\n",
            "[1,   625] loss: 1.276\n",
            "[1,   750] loss: 1.208\n",
            "[2,   125] loss: 1.083\n",
            "[2,   250] loss: 1.087\n",
            "[2,   375] loss: 1.022\n",
            "[2,   500] loss: 0.998\n",
            "[2,   625] loss: 0.976\n",
            "[2,   750] loss: 0.942\n",
            "[3,   125] loss: 0.817\n",
            "[3,   250] loss: 0.810\n",
            "[3,   375] loss: 0.805\n",
            "[3,   500] loss: 0.796\n",
            "[3,   625] loss: 0.792\n",
            "[3,   750] loss: 0.768\n",
            "[4,   125] loss: 0.637\n",
            "[4,   250] loss: 0.635\n",
            "[4,   375] loss: 0.630\n",
            "[4,   500] loss: 0.639\n",
            "[4,   625] loss: 0.651\n",
            "[4,   750] loss: 0.632\n",
            "[5,   125] loss: 0.507\n",
            "[5,   250] loss: 0.511\n",
            "[5,   375] loss: 0.525\n",
            "[5,   500] loss: 0.539\n",
            "[5,   625] loss: 0.534\n",
            "[5,   750] loss: 0.535\n",
            "[6,   125] loss: 0.365\n",
            "[6,   250] loss: 0.416\n",
            "[6,   375] loss: 0.426\n",
            "[6,   500] loss: 0.412\n",
            "[6,   625] loss: 0.416\n",
            "[6,   750] loss: 0.431\n",
            "[7,   125] loss: 0.308\n",
            "[7,   250] loss: 0.340\n",
            "[7,   375] loss: 0.336\n",
            "[7,   500] loss: 0.352\n",
            "[7,   625] loss: 0.363\n",
            "[7,   750] loss: 0.360\n",
            "[8,   125] loss: 0.243\n",
            "[8,   250] loss: 0.249\n",
            "[8,   375] loss: 0.270\n",
            "[8,   500] loss: 0.274\n",
            "[8,   625] loss: 0.294\n",
            "[8,   750] loss: 0.325\n",
            "[9,   125] loss: 0.208\n",
            "[9,   250] loss: 0.208\n",
            "[9,   375] loss: 0.213\n",
            "[9,   500] loss: 0.246\n",
            "[9,   625] loss: 0.244\n",
            "[9,   750] loss: 0.245\n",
            "[10,   125] loss: 0.155\n",
            "[10,   250] loss: 0.201\n",
            "[10,   375] loss: 0.197\n",
            "[10,   500] loss: 0.198\n",
            "[10,   625] loss: 0.214\n",
            "[10,   750] loss: 0.208\n",
            "[11,   125] loss: 0.129\n",
            "[11,   250] loss: 0.150\n",
            "[11,   375] loss: 0.146\n",
            "[11,   500] loss: 0.187\n",
            "[11,   625] loss: 0.156\n",
            "[11,   750] loss: 0.162\n",
            "[12,   125] loss: 0.119\n",
            "[12,   250] loss: 0.108\n",
            "[12,   375] loss: 0.130\n",
            "[12,   500] loss: 0.150\n",
            "[12,   625] loss: 0.130\n",
            "[12,   750] loss: 0.154\n",
            "[13,   125] loss: 0.079\n",
            "[13,   250] loss: 0.101\n",
            "[13,   375] loss: 0.119\n",
            "[13,   500] loss: 0.112\n",
            "[13,   625] loss: 0.105\n",
            "[13,   750] loss: 0.100\n",
            "[14,   125] loss: 0.074\n",
            "[14,   250] loss: 0.082\n",
            "[14,   375] loss: 0.087\n",
            "[14,   500] loss: 0.082\n",
            "[14,   625] loss: 0.098\n",
            "[14,   750] loss: 0.106\n",
            "[15,   125] loss: 0.069\n",
            "[15,   250] loss: 0.061\n",
            "[15,   375] loss: 0.059\n",
            "[15,   500] loss: 0.067\n",
            "[15,   625] loss: 0.083\n",
            "[15,   750] loss: 0.104\n",
            "[16,   125] loss: 0.068\n",
            "[16,   250] loss: 0.058\n",
            "[16,   375] loss: 0.069\n",
            "[16,   500] loss: 0.083\n",
            "[16,   625] loss: 0.101\n",
            "[16,   750] loss: 0.078\n",
            "[17,   125] loss: 0.054\n",
            "[17,   250] loss: 0.051\n",
            "[17,   375] loss: 0.050\n",
            "[17,   500] loss: 0.074\n",
            "[17,   625] loss: 0.084\n",
            "[17,   750] loss: 0.070\n",
            "[18,   125] loss: 0.039\n",
            "[18,   250] loss: 0.049\n",
            "[18,   375] loss: 0.060\n",
            "[18,   500] loss: 0.049\n",
            "[18,   625] loss: 0.064\n",
            "[18,   750] loss: 0.056\n",
            "[19,   125] loss: 0.047\n",
            "[19,   250] loss: 0.042\n",
            "[19,   375] loss: 0.043\n",
            "[19,   500] loss: 0.065\n",
            "[19,   625] loss: 0.050\n",
            "[19,   750] loss: 0.049\n",
            "[20,   125] loss: 0.031\n",
            "[20,   250] loss: 0.041\n",
            "[20,   375] loss: 0.044\n",
            "[20,   500] loss: 0.065\n",
            "[20,   625] loss: 0.050\n",
            "[20,   750] loss: 0.050\n",
            "Finished Training\n"
          ],
          "name": "stdout"
        }
      ]
    },
    {
      "cell_type": "code",
      "metadata": {
        "id": "wYc55rlKn5uJ",
        "colab_type": "code",
        "colab": {
          "base_uri": "https://localhost:8080/",
          "height": 1000
        },
        "outputId": "b42bd003-f255-4231-dbdc-86e5c2e844c1"
      },
      "source": [
        "train_loss"
      ],
      "execution_count": 8,
      "outputs": [
        {
          "output_type": "execute_result",
          "data": {
            "text/plain": [
              "[2.076396505355835,\n",
              " 1.6983378257751465,\n",
              " 1.4880945920944213,\n",
              " 1.3625940713882447,\n",
              " 1.2761410541534424,\n",
              " 1.2079485220909119,\n",
              " 1.0825592923164367,\n",
              " 1.0868955545425416,\n",
              " 1.021996953010559,\n",
              " 0.9983627052307129,\n",
              " 0.976454541683197,\n",
              " 0.9418036985397339,\n",
              " 0.8173884229660034,\n",
              " 0.8097111115455627,\n",
              " 0.8047324585914611,\n",
              " 0.7956979360580444,\n",
              " 0.7915201961994172,\n",
              " 0.7678974196910858,\n",
              " 0.6370737302303314,\n",
              " 0.6349697701931,\n",
              " 0.6303071792125702,\n",
              " 0.6387394704818725,\n",
              " 0.6506490914821624,\n",
              " 0.6319997205734252,\n",
              " 0.5073263394832611,\n",
              " 0.5112106487751007,\n",
              " 0.5247984198331833,\n",
              " 0.538902441740036,\n",
              " 0.5336752984523773,\n",
              " 0.5352884333133697,\n",
              " 0.36524420881271363,\n",
              " 0.4162065364122391,\n",
              " 0.42642979049682617,\n",
              " 0.41160878336429596,\n",
              " 0.41571813535690305,\n",
              " 0.4306788296699524,\n",
              " 0.30786998957395556,\n",
              " 0.34042569530010225,\n",
              " 0.3364946095347405,\n",
              " 0.35240073037147523,\n",
              " 0.363403090596199,\n",
              " 0.36008347606658936,\n",
              " 0.24286392077803612,\n",
              " 0.24941061156988145,\n",
              " 0.2703739327788353,\n",
              " 0.27441282039880754,\n",
              " 0.2940053316950798,\n",
              " 0.3253915114402771,\n",
              " 0.20818852907419205,\n",
              " 0.2077994776368141,\n",
              " 0.21332253080606461,\n",
              " 0.24550212666392326,\n",
              " 0.24352032291889192,\n",
              " 0.24514625310897828,\n",
              " 0.15454597476124762,\n",
              " 0.20052906587719918,\n",
              " 0.19677461394667625,\n",
              " 0.19755835554003714,\n",
              " 0.21400243812799455,\n",
              " 0.2077088587284088,\n",
              " 0.12880268386006355,\n",
              " 0.14973993541300296,\n",
              " 0.14552539670467377,\n",
              " 0.18658247856795787,\n",
              " 0.15614196965098381,\n",
              " 0.1622285494208336,\n",
              " 0.11891539185494185,\n",
              " 0.10819510266929865,\n",
              " 0.13010517237335442,\n",
              " 0.1504692404717207,\n",
              " 0.13047804832458496,\n",
              " 0.15399100171029567,\n",
              " 0.07940388911962509,\n",
              " 0.1006603394895792,\n",
              " 0.11907024431973695,\n",
              " 0.11208340940624476,\n",
              " 0.10508794908225537,\n",
              " 0.09951234669983387,\n",
              " 0.07392259693145752,\n",
              " 0.08204464133828879,\n",
              " 0.0873632737621665,\n",
              " 0.0820435117855668,\n",
              " 0.09788730958476663,\n",
              " 0.10558473313599825,\n",
              " 0.06905384994298219,\n",
              " 0.06116235173121095,\n",
              " 0.05863786913268268,\n",
              " 0.06735513980686665,\n",
              " 0.08344959297776222,\n",
              " 0.10369889897108078,\n",
              " 0.06812206555530428,\n",
              " 0.05828436106443405,\n",
              " 0.06862385348416865,\n",
              " 0.08276612344384193,\n",
              " 0.10144751115888358,\n",
              " 0.07801916208863259,\n",
              " 0.053921703174710275,\n",
              " 0.0508202657289803,\n",
              " 0.049599844271317126,\n",
              " 0.07397169188223779,\n",
              " 0.08431560641154646,\n",
              " 0.07042099619656801,\n",
              " 0.039223522985354066,\n",
              " 0.04894410988502204,\n",
              " 0.059554332258179785,\n",
              " 0.04911835882812739,\n",
              " 0.06393171950057149,\n",
              " 0.05591527548618615,\n",
              " 0.047171105837449434,\n",
              " 0.04179691597353667,\n",
              " 0.043261887217871844,\n",
              " 0.0651278357245028,\n",
              " 0.04975372644141316,\n",
              " 0.04928914709016681,\n",
              " 0.031362558198161423,\n",
              " 0.04074733427353203,\n",
              " 0.04447532599978149,\n",
              " 0.06487020371574909,\n",
              " 0.049977453254163265,\n",
              " 0.04989059954695404]"
            ]
          },
          "metadata": {
            "tags": []
          },
          "execution_count": 8
        }
      ]
    },
    {
      "cell_type": "code",
      "metadata": {
        "id": "iPU5iVq_qy1W",
        "colab_type": "code",
        "colab": {
          "base_uri": "https://localhost:8080/",
          "height": 295
        },
        "outputId": "aa6c1312-eec6-4910-86ed-137a8bb19cf2"
      },
      "source": [
        "import matplotlib.pyplot as plt\n",
        "import numpy as np\n",
        "epoch = np.linspace(1,21,20)\n",
        "fig = plt.figure()\n",
        "plt.plot(epoch, training_acc, label = 'training_accuracy')\n",
        "plt.plot(epoch, test_acc, label = 'test_accuracy')\n",
        "plt.title('Training and test accuracy for VGG11')\n",
        "plt.xlabel('Epoch')\n",
        "plt.ylabel('Accuracy')\n",
        "plt.legend()\n",
        "fig.savefig('VGG11_result.jpg')"
      ],
      "execution_count": 9,
      "outputs": [
        {
          "output_type": "display_data",
          "data": {
            "image/png": "[encoded data removed]",
            "text/plain": [
              "<Figure size 432x288 with 1 Axes>"
            ]
          },
          "metadata": {
            "tags": [],
            "needs_background": "light"
          }
        }
      ]
    },
    {
      "cell_type": "code",
      "metadata": {
        "id": "UaR4j2lhq8-F",
        "colab_type": "code",
        "colab": {
          "base_uri": "https://localhost:8080/",
          "height": 353
        },
        "outputId": "0297d5e5-63ce-4df1-d79d-24781444f5c1"
      },
      "source": [
        "training_acc"
      ],
      "execution_count": 10,
      "outputs": [
        {
          "output_type": "execute_result",
          "data": {
            "text/plain": [
              "[60.018,\n",
              " 71.396,\n",
              " 78.626,\n",
              " 82.654,\n",
              " 86.45,\n",
              " 89.474,\n",
              " 92.732,\n",
              " 93.644,\n",
              " 95.242,\n",
              " 96.258,\n",
              " 96.86,\n",
              " 97.386,\n",
              " 97.472,\n",
              " 97.508,\n",
              " 97.662,\n",
              " 97.95,\n",
              " 98.166,\n",
              " 98.276,\n",
              " 98.87,\n",
              " 98.226]"
            ]
          },
          "metadata": {
            "tags": []
          },
          "execution_count": 10
        }
      ]
    },
    {
      "cell_type": "code",
      "metadata": {
        "id": "TK1r4IJarL9h",
        "colab_type": "code",
        "colab": {
          "base_uri": "https://localhost:8080/",
          "height": 353
        },
        "outputId": "01533ee7-0ff1-4f4d-9fdb-4befd7cdd405"
      },
      "source": [
        "test_acc"
      ],
      "execution_count": 11,
      "outputs": [
        {
          "output_type": "execute_result",
          "data": {
            "text/plain": [
              "[57.81,\n",
              " 67.21,\n",
              " 71.82,\n",
              " 73.28,\n",
              " 74.51,\n",
              " 75.93,\n",
              " 76.82,\n",
              " 76.81,\n",
              " 77.78,\n",
              " 77.89,\n",
              " 77.99,\n",
              " 78.45,\n",
              " 78.42,\n",
              " 78.58,\n",
              " 78.56,\n",
              " 78.47,\n",
              " 78.18,\n",
              " 78.1,\n",
              " 79.15,\n",
              " 77.99]"
            ]
          },
          "metadata": {
            "tags": []
          },
          "execution_count": 11
        }
      ]
    },
    {
      "cell_type": "code",
      "metadata": {
        "id": "rE7PGkbGrPWE",
        "colab_type": "code",
        "colab": {}
      },
      "source": [
        ""
      ],
      "execution_count": null,
      "outputs": []
    }
  ]
}
