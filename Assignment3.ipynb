{
 "cells": [
  {
   "cell_type": "code",
   "execution_count": 161,
   "metadata": {},
   "outputs": [],
   "source": [
    "import torch\n",
    "import torch.nn as nn\n",
    "import torch.nn.functional as F\n",
    "import torch.optim as optim\n",
    "import numpy as np\n",
    "import pandas as pd"
   ]
  },
  {
   "cell_type": "code",
   "execution_count": 162,
   "metadata": {},
   "outputs": [
    {
     "data": {
      "text/html": [
       "<div>\n",
       "<style scoped>\n",
       "    .dataframe tbody tr th:only-of-type {\n",
       "        vertical-align: middle;\n",
       "    }\n",
       "\n",
       "    .dataframe tbody tr th {\n",
       "        vertical-align: top;\n",
       "    }\n",
       "\n",
       "    .dataframe thead th {\n",
       "        text-align: right;\n",
       "    }\n",
       "</style>\n",
       "<table border=\"1\" class=\"dataframe\">\n",
       "  <thead>\n",
       "    <tr style=\"text-align: right;\">\n",
       "      <th></th>\n",
       "      <th>Open</th>\n",
       "      <th>High</th>\n",
       "      <th>Low</th>\n",
       "      <th>Close</th>\n",
       "    </tr>\n",
       "  </thead>\n",
       "  <tbody>\n",
       "    <tr>\n",
       "      <th>0</th>\n",
       "      <td>325.25</td>\n",
       "      <td>332.83</td>\n",
       "      <td>324.97</td>\n",
       "      <td>331.795</td>\n",
       "    </tr>\n",
       "    <tr>\n",
       "      <th>1</th>\n",
       "      <td>331.27</td>\n",
       "      <td>333.87</td>\n",
       "      <td>329.08</td>\n",
       "      <td>333.225</td>\n",
       "    </tr>\n",
       "    <tr>\n",
       "      <th>2</th>\n",
       "      <td>329.83</td>\n",
       "      <td>330.75</td>\n",
       "      <td>326.89</td>\n",
       "      <td>328.605</td>\n",
       "    </tr>\n",
       "    <tr>\n",
       "      <th>3</th>\n",
       "      <td>328.34</td>\n",
       "      <td>328.77</td>\n",
       "      <td>323.68</td>\n",
       "      <td>324.120</td>\n",
       "    </tr>\n",
       "    <tr>\n",
       "      <th>4</th>\n",
       "      <td>322.04</td>\n",
       "      <td>322.29</td>\n",
       "      <td>309.46</td>\n",
       "      <td>310.380</td>\n",
       "    </tr>\n",
       "    <tr>\n",
       "      <th>...</th>\n",
       "      <td>...</td>\n",
       "      <td>...</td>\n",
       "      <td>...</td>\n",
       "      <td>...</td>\n",
       "    </tr>\n",
       "    <tr>\n",
       "      <th>1253</th>\n",
       "      <td>790.90</td>\n",
       "      <td>792.74</td>\n",
       "      <td>787.28</td>\n",
       "      <td>789.910</td>\n",
       "    </tr>\n",
       "    <tr>\n",
       "      <th>1254</th>\n",
       "      <td>790.68</td>\n",
       "      <td>797.86</td>\n",
       "      <td>787.66</td>\n",
       "      <td>791.550</td>\n",
       "    </tr>\n",
       "    <tr>\n",
       "      <th>1255</th>\n",
       "      <td>793.70</td>\n",
       "      <td>794.23</td>\n",
       "      <td>783.20</td>\n",
       "      <td>785.050</td>\n",
       "    </tr>\n",
       "    <tr>\n",
       "      <th>1256</th>\n",
       "      <td>783.33</td>\n",
       "      <td>785.93</td>\n",
       "      <td>778.92</td>\n",
       "      <td>782.790</td>\n",
       "    </tr>\n",
       "    <tr>\n",
       "      <th>1257</th>\n",
       "      <td>782.75</td>\n",
       "      <td>782.78</td>\n",
       "      <td>770.41</td>\n",
       "      <td>771.820</td>\n",
       "    </tr>\n",
       "  </tbody>\n",
       "</table>\n",
       "<p>1258 rows × 4 columns</p>\n",
       "</div>"
      ],
      "text/plain": [
       "        Open    High     Low    Close\n",
       "0     325.25  332.83  324.97  331.795\n",
       "1     331.27  333.87  329.08  333.225\n",
       "2     329.83  330.75  326.89  328.605\n",
       "3     328.34  328.77  323.68  324.120\n",
       "4     322.04  322.29  309.46  310.380\n",
       "...      ...     ...     ...      ...\n",
       "1253  790.90  792.74  787.28  789.910\n",
       "1254  790.68  797.86  787.66  791.550\n",
       "1255  793.70  794.23  783.20  785.050\n",
       "1256  783.33  785.93  778.92  782.790\n",
       "1257  782.75  782.78  770.41  771.820\n",
       "\n",
       "[1258 rows x 4 columns]"
      ]
     },
     "execution_count": 162,
     "metadata": {},
     "output_type": "execute_result"
    }
   ],
   "source": [
    "# Read data as DataFrame\n",
    "df_data = pd.DataFrame(pd.read_csv('Google_Stock_Price_Train.csv',thousands=','))\n",
    "df_data.drop(columns='Date',inplace=True)\n",
    "df_data.drop(columns='Volume',inplace=True)\n",
    "# 2-561 -> 0-559\n",
    "# 'Close' from [0,559] divided by 2\n",
    "df_data.astype('float')\n",
    "df_data.loc[0:559, 'Close'] = df_data.loc[0:559, 'Close']/2\n",
    "df_data"
   ]
  },
  {
   "cell_type": "code",
   "execution_count": 163,
   "metadata": {},
   "outputs": [
    {
     "name": "stdout",
     "output_type": "stream",
     "text": [
      "[[325.25  332.83  324.97  331.795]\n",
      " [331.27  333.87  329.08  333.225]\n",
      " [329.83  330.75  326.89  328.605]\n",
      " ...\n",
      " [793.7   794.23  783.2   785.05 ]\n",
      " [783.33  785.93  778.92  782.79 ]\n",
      " [782.75  782.78  770.41  771.82 ]]\n"
     ]
    }
   ],
   "source": [
    "training_set = df_data.values\n",
    "print(training_set)"
   ]
  },
  {
   "cell_type": "code",
   "execution_count": 164,
   "metadata": {},
   "outputs": [],
   "source": [
    "class RNN(nn.Module):\n",
    "    def __init__(self, i_size, h_size, n_layers, o_size):\n",
    "        super(RNN, self).__init__()\n",
    "\n",
    "        self.rnn = nn.LSTM(\n",
    "            input_size=i_size,\n",
    "            hidden_size=h_size,\n",
    "            num_layers=n_layers\n",
    "        )\n",
    "        self.out = nn.Linear(h_size, o_size)\n",
    "\n",
    "    def forward(self, x, h_state):\n",
    "        r_out, hidden_state = self.rnn(x, h_state)\n",
    "        \n",
    "        hidden_size = hidden_state[-1].size(-1)\n",
    "        r_out = r_out.view(-1, hidden_size)\n",
    "        outs = self.out(r_out)\n",
    "\n",
    "        return outs, hidden_state"
   ]
  },
  {
   "cell_type": "code",
   "execution_count": 165,
   "metadata": {},
   "outputs": [],
   "source": [
    "# Input past 30 days data, [open, high, low, close] * 30 ===> output [close]\n",
    "# Input size = 30, hidden size = 128, output size = 1\n",
    "n_hidden = 64\n",
    "n_input = 4\n",
    "n_output = 1\n",
    "n_layers = 1\n",
    "rnn = RNN(n_input, n_hidden,n_layers, n_output)"
   ]
  },
  {
   "cell_type": "code",
   "execution_count": 166,
   "metadata": {},
   "outputs": [
    {
     "name": "stdout",
     "output_type": "stream",
     "text": [
      "tensor([[[325.2500, 332.8300, 324.9700, 331.7950]]])\n",
      "torch.Size([1, 1, 4])\n",
      "tensor([[-0.4492]], grad_fn=<AddmmBackward>)\n",
      "torch.Size([1, 1])\n"
     ]
    }
   ],
   "source": [
    "n_windows = 30\n",
    "input = training_set[0]\n",
    "input = torch.from_numpy(input).float().view(1,1,n_input)\n",
    "print(input)\n",
    "print(input.size())\n",
    "# hidden = torch.zeros(1, n_hidden)\n",
    "hidden = None\n",
    "output, next_hidden = rnn(input, hidden)\n",
    "print(output)\n",
    "print(output.size())"
   ]
  },
  {
   "cell_type": "code",
   "execution_count": 186,
   "metadata": {},
   "outputs": [],
   "source": [
    "learning_rate = 0.005\n",
    "optimiser = torch.optim.Adam(rnn.parameters(), lr=learning_rate)\n",
    "criterion = nn.MSELoss()\n",
    "hidden = None"
   ]
  },
  {
   "cell_type": "code",
   "execution_count": 187,
   "metadata": {},
   "outputs": [],
   "source": [
    "def train(inputs, labels):\n",
    "    \n",
    "    \"\"\"\n",
    "    inputs: 30 day's stock (30,1,4)\n",
    "    labels: the following day's stock (open) (1,1)\n",
    "    \"\"\"\n",
    "    hidden = None\n",
    "    \n",
    "    rnn.zero_grad()\n",
    "    \n",
    "    # convert inputs and labels to tensor\n",
    "    inputs = torch.from_numpy(inputs).float().view(n_windows,1,n_input)\n",
    "    labels = labels.reshape(1,1)\n",
    "    labels = torch.from_numpy(labels).float()\n",
    "    \n",
    "    \n",
    "    for i in range(inputs.size()[0]):\n",
    "        output, hidden = rnn(inputs[0].view(1,1,n_input),hidden)\n",
    "    \n",
    "    loss = criterion(output, labels) # output = (1,1)\n",
    "    loss.backward()\n",
    "    \n",
    "    optimiser.step()\n",
    "    return output, loss.item()"
   ]
  },
  {
   "cell_type": "code",
   "execution_count": 188,
   "metadata": {},
   "outputs": [
    {
     "name": "stdout",
     "output_type": "stream",
     "text": [
      "epoch 1, loss 44487.34375\n",
      "epoch 2, loss 38652.7265625\n",
      "epoch 3, loss 36458.1328125\n",
      "epoch 4, loss 35584.38671875\n",
      "epoch 5, loss 35265.28125\n",
      "epoch 6, loss 35146.4765625\n",
      "epoch 7, loss 35101.890625\n",
      "epoch 8, loss 35084.64453125\n",
      "epoch 9, loss 35078.109375\n",
      "epoch 10, loss 35075.546875\n",
      "epoch 11, loss 35074.609375\n",
      "epoch 12, loss 34536.0859375\n",
      "epoch 13, loss 34494.55859375\n",
      "epoch 14, loss 34480.25390625\n",
      "epoch 15, loss 34476.4921875\n",
      "epoch 16, loss 34475.5859375\n",
      "epoch 17, loss 34475.3828125\n",
      "epoch 18, loss 34475.3359375\n",
      "epoch 19, loss 34475.3359375\n",
      "epoch 20, loss 34475.3359375\n",
      "Finish\n"
     ]
    }
   ],
   "source": [
    "num_epochs = 20\n",
    "all_losses = []\n",
    "\n",
    "for epoch in range(num_epochs):\n",
    "    # Get inputs and labels\n",
    "    for i in range(n_windows, 1258):\n",
    "        inputs = training_set[i-n_windows:i]\n",
    "        labels = training_set[i,3]       # ith row, first col, close price\n",
    "        output, loss = train(inputs, labels)\n",
    "    \n",
    "    \n",
    "    all_losses.append(loss)\n",
    "    print('epoch {}, loss {}'.format(epoch+1,loss))\n",
    "\n",
    "print('Finish')"
   ]
  },
  {
   "cell_type": "code",
   "execution_count": 193,
   "metadata": {},
   "outputs": [
    {
     "data": {
      "text/plain": [
       "[<matplotlib.lines.Line2D at 0x7fd67b84cc10>]"
      ]
     },
     "execution_count": 193,
     "metadata": {},
     "output_type": "execute_result"
    },
    {
     "data": {
      "image/png": "[encoded data removed]",
      "text/plain": [
       "<Figure size 432x288 with 1 Axes>"
      ]
     },
     "metadata": {
      "needs_background": "light"
     },
     "output_type": "display_data"
    }
   ],
   "source": [
    "%matplotlib inline\n",
    "import matplotlib.pyplot as plt\n",
    "import matplotlib.ticker as ticker\n",
    "\n",
    "plt.figure()\n",
    "plt.title('Training with lr = 0.005')\n",
    "plt.xlabel('Epoch')\n",
    "plt.ylabel('Loss')\n",
    "plt.plot(all_losses)"
   ]
  },
  {
   "cell_type": "code",
   "execution_count": 190,
   "metadata": {},
   "outputs": [
    {
     "name": "stdout",
     "output_type": "stream",
     "text": [
      "(50, 4)\n"
     ]
    }
   ],
   "source": [
    "# Test\n",
    "test_data = pd.DataFrame(pd.read_csv('Google_Stock_Price_Test.csv',thousands=','))\n",
    "test_data.drop(columns='Date',inplace=True)\n",
    "test_data.drop(columns='Volume',inplace=True)\n",
    "test_data.astype('float')\n",
    "test_set = test_data.values\n",
    "print(np.shape(test_set))"
   ]
  },
  {
   "cell_type": "code",
   "execution_count": 191,
   "metadata": {},
   "outputs": [],
   "source": [
    "output_predict = []\n",
    "output_true = []\n",
    "for j in range(n_windows, 50):\n",
    "    inputs = test_set[j-n_windows:j]\n",
    "    labels = test_set[j,3]      \n",
    "    inputs = torch.from_numpy(inputs).float().view(n_windows,1,n_input)\n",
    "    labels = labels.reshape(1,1)\n",
    "    labels = torch.from_numpy(labels).float()\n",
    "\n",
    "    for i in range(inputs.size()[0]):\n",
    "        output, hidden = rnn(inputs[0].view(1,1,n_input),hidden)\n",
    "    \n",
    "    output_predict.append(output)\n",
    "    output_true.append(labels)"
   ]
  },
  {
   "cell_type": "code",
   "execution_count": 192,
   "metadata": {},
   "outputs": [
    {
     "data": {
      "image/png": "[encoded data removed]",
      "text/plain": [
       "<Figure size 864x360 with 1 Axes>"
      ]
     },
     "metadata": {
      "needs_background": "light"
     },
     "output_type": "display_data"
    }
   ],
   "source": [
    "plt.figure(1, figsize=(12, 5))\n",
    "plt.plot(output_true, color = 'red', label = 'Real')\n",
    "plt.plot(output_predict, color = 'blue', label = 'Pred')\n",
    "plt.title('Test')\n",
    "plt.xlabel('Time')\n",
    "plt.ylabel('Close Price')\n",
    "plt.legend()\n",
    "plt.show()"
   ]
  },
  {
   "cell_type": "code",
   "execution_count": null,
   "metadata": {},
   "outputs": [],
   "source": []
  },
  {
   "cell_type": "code",
   "execution_count": null,
   "metadata": {},
   "outputs": [],
   "source": []
  },
  {
   "cell_type": "code",
   "execution_count": null,
   "metadata": {},
   "outputs": [],
   "source": []
  },
  {
   "cell_type": "code",
   "execution_count": null,
   "metadata": {},
   "outputs": [],
   "source": []
  },
  {
   "cell_type": "code",
   "execution_count": null,
   "metadata": {},
   "outputs": [],
   "source": []
  }
 ],
 "metadata": {
  "kernelspec": {
   "display_name": "Python 3",
   "language": "python",
   "name": "python3"
  },
  "language_info": {
   "codemirror_mode": {
    "name": "ipython",
    "version": 3
   },
   "file_extension": ".py",
   "mimetype": "text/x-python",
   "name": "python",
   "nbconvert_exporter": "python",
   "pygments_lexer": "ipython3",
   "version": "3.7.7"
  }
 },
 "nbformat": 4,
 "nbformat_minor": 2
}
