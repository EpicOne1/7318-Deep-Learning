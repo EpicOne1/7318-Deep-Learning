{
  "nbformat": 4,
  "nbformat_minor": 0,
  "metadata": {
    "kernelspec": {
      "display_name": "Python 3",
      "language": "python",
      "name": "python3"
    },
    "language_info": {
      "codemirror_mode": {
        "name": "ipython",
        "version": 3
      },
      "file_extension": ".py",
      "mimetype": "text/x-python",
      "name": "python",
      "nbconvert_exporter": "python",
      "pygments_lexer": "ipython3",
      "version": "3.7.7"
    },
    "colab": {
      "name": "VGG11_C.ipynb",
      "provenance": [],
      "collapsed_sections": [],
      "include_colab_link": true
    },
    "accelerator": "GPU"
  },
  "cells": [
    {
      "cell_type": "markdown",
      "metadata": {
        "id": "view-in-github",
        "colab_type": "text"
      },
      "source": [
        "<a href=\"https://colab.research.google.com/github/EpicOne1/7318-Deep-Learning/blob/master/VGG11_C.ipynb\" target=\"_parent\"><img src=\"https://colab.research.google.com/assets/colab-badge.svg\" alt=\"Open In Colab\"/></a>"
      ]
    },
    {
      "cell_type": "code",
      "metadata": {
        "id": "uBB8WxTnn5tp",
        "colab_type": "code",
        "colab": {}
      },
      "source": [
        "import torch\n",
        "import torchvision\n",
        "import torchvision.transforms as transforms"
      ],
      "execution_count": 1,
      "outputs": []
    },
    {
      "cell_type": "code",
      "metadata": {
        "id": "s3ZYhbjWn5tw",
        "colab_type": "code",
        "colab": {}
      },
      "source": [
        "device = torch.device(\"cuda:0\" if torch.cuda.is_available() else \"cpu\")"
      ],
      "execution_count": 2,
      "outputs": []
    },
    {
      "cell_type": "code",
      "metadata": {
        "id": "WD-i9i2Cn5t0",
        "colab_type": "code",
        "colab": {
          "base_uri": "https://localhost:8080/",
          "height": 34
        },
        "outputId": "ce542548-2448-4958-ed70-a90b3cc8aba8"
      },
      "source": [
        "device"
      ],
      "execution_count": 3,
      "outputs": [
        {
          "output_type": "execute_result",
          "data": {
            "text/plain": [
              "device(type='cuda', index=0)"
            ]
          },
          "metadata": {
            "tags": []
          },
          "execution_count": 3
        }
      ]
    },
    {
      "cell_type": "code",
      "metadata": {
        "id": "MUlzssfFn5t5",
        "colab_type": "code",
        "colab": {
          "base_uri": "https://localhost:8080/",
          "height": 50
        },
        "outputId": "0ab346c0-ea9b-4075-c2a4-3d9194496cc5"
      },
      "source": [
        "transform = transforms.Compose([\n",
        "    transforms.ToTensor(),  \n",
        "    transforms.Normalize((0.5,0.5,0.5), (0.5,0.5,0.5))\n",
        "])\n",
        "\n",
        "trainset = torchvision.datasets.CIFAR10(root='./data', train=True,\n",
        "                                        download=True, transform=transform)\n",
        "trainloader = torch.utils.data.DataLoader(trainset, batch_size=64,\n",
        "                                          shuffle=True, num_workers=2)\n",
        "\n",
        "testset = torchvision.datasets.CIFAR10(root='./data', train=False,\n",
        "                                       download=True, transform=transform)\n",
        "testloader = torch.utils.data.DataLoader(testset, batch_size=64,\n",
        "                                         shuffle=False, num_workers=2)\n",
        "\n",
        "classes = ('plane', 'car', 'bird', 'cat',\n",
        "           'deer', 'dog', 'frog', 'horse', 'ship', 'truck')"
      ],
      "execution_count": 5,
      "outputs": [
        {
          "output_type": "stream",
          "text": [
            "Files already downloaded and verified\n",
            "Files already downloaded and verified\n"
          ],
          "name": "stdout"
        }
      ]
    },
    {
      "cell_type": "code",
      "metadata": {
        "id": "LK7plEM8n5t-",
        "colab_type": "code",
        "colab": {
          "base_uri": "https://localhost:8080/",
          "height": 504
        },
        "outputId": "102d2b37-9697-40f6-c014-afb19f74ccda"
      },
      "source": [
        "import torch.nn as nn\n",
        "import torch.nn.functional as F\n",
        "\n",
        "# VGG11 ConvNet configuration is 'A', 'M' = Max pooling layer\n",
        "# B is reduced size networks \n",
        "cfgs = {'C': [64, 'M', 128, 'M', 256, 256, 'M']}\n",
        "\n",
        "def make_layers(cfg):\n",
        "    layers = []\n",
        "    in_channels = 3\n",
        "    for v in cfg:\n",
        "        if v == 'M':\n",
        "            layers += [nn.MaxPool2d(kernel_size=2, stride=2)]\n",
        "        else: \n",
        "            # add convolutional layer and Batch Norm\n",
        "            layers.append(nn.Conv2d(in_channels=in_channels,\n",
        "                                    out_channels=v,\n",
        "                                    kernel_size=3,\n",
        "                                    stride=1,\n",
        "                                    padding=1,\n",
        "                                    bias=True))\n",
        "            layers.append(nn.BatchNorm2d(v))\n",
        "            layers.append(nn.ReLU(inplace=True))\n",
        "            in_channels = v\n",
        "    return nn.Sequential(*layers)\n",
        "\n",
        "\n",
        "\n",
        "class VGG(nn.Module):\n",
        "    # 10 classes\n",
        "    def __init__(self, name, num_classes=10):\n",
        "        super(VGG, self).__init__()\n",
        "        # VGG11\n",
        "        cfg = cfgs[name]\n",
        "        self.layers = make_layers(cfg)\n",
        "        self.avgpool = nn.AdaptiveAvgPool2d((3,3)) # change 7x7 to 3x3\n",
        "        self.classifier = nn.Sequential(\n",
        "            nn.Linear(256*3*3, 512), #fc1\n",
        "            nn.ReLU(True),\n",
        "            nn.Dropout(),\n",
        "            nn.Linear(512,256), #fc2\n",
        "            nn.ReLU(True),\n",
        "            nn.Dropout(),\n",
        "            nn.Linear(256, num_classes) #fc3\n",
        "        )\n",
        "            \n",
        "    def forward(self,x):\n",
        "        x = self.layers(x)\n",
        "        x = self.avgpool(x)\n",
        "        x = torch.flatten(x,1)\n",
        "        x = self.classifier(x)\n",
        "        return x\n",
        "    \n",
        "def VGG11_C():\n",
        "  return VGG('C')\n",
        "\n",
        "    \n",
        "net = VGG11_C().to(device)\n",
        "print(net)"
      ],
      "execution_count": 7,
      "outputs": [
        {
          "output_type": "stream",
          "text": [
            "VGG(\n",
            "  (layers): Sequential(\n",
            "    (0): Conv2d(3, 64, kernel_size=(3, 3), stride=(1, 1), padding=(1, 1))\n",
            "    (1): BatchNorm2d(64, eps=1e-05, momentum=0.1, affine=True, track_running_stats=True)\n",
            "    (2): ReLU(inplace=True)\n",
            "    (3): MaxPool2d(kernel_size=2, stride=2, padding=0, dilation=1, ceil_mode=False)\n",
            "    (4): Conv2d(64, 128, kernel_size=(3, 3), stride=(1, 1), padding=(1, 1))\n",
            "    (5): BatchNorm2d(128, eps=1e-05, momentum=0.1, affine=True, track_running_stats=True)\n",
            "    (6): ReLU(inplace=True)\n",
            "    (7): MaxPool2d(kernel_size=2, stride=2, padding=0, dilation=1, ceil_mode=False)\n",
            "    (8): Conv2d(128, 256, kernel_size=(3, 3), stride=(1, 1), padding=(1, 1))\n",
            "    (9): BatchNorm2d(256, eps=1e-05, momentum=0.1, affine=True, track_running_stats=True)\n",
            "    (10): ReLU(inplace=True)\n",
            "    (11): Conv2d(256, 256, kernel_size=(3, 3), stride=(1, 1), padding=(1, 1))\n",
            "    (12): BatchNorm2d(256, eps=1e-05, momentum=0.1, affine=True, track_running_stats=True)\n",
            "    (13): ReLU(inplace=True)\n",
            "    (14): MaxPool2d(kernel_size=2, stride=2, padding=0, dilation=1, ceil_mode=False)\n",
            "  )\n",
            "  (avgpool): AdaptiveAvgPool2d(output_size=(3, 3))\n",
            "  (classifier): Sequential(\n",
            "    (0): Linear(in_features=2304, out_features=512, bias=True)\n",
            "    (1): ReLU(inplace=True)\n",
            "    (2): Dropout(p=0.5, inplace=False)\n",
            "    (3): Linear(in_features=512, out_features=256, bias=True)\n",
            "    (4): ReLU(inplace=True)\n",
            "    (5): Dropout(p=0.5, inplace=False)\n",
            "    (6): Linear(in_features=256, out_features=10, bias=True)\n",
            "  )\n",
            ")\n"
          ],
          "name": "stdout"
        }
      ]
    },
    {
      "cell_type": "code",
      "metadata": {
        "id": "odbRFbbpn5uC",
        "colab_type": "code",
        "colab": {}
      },
      "source": [
        "import torch.optim as optim\n",
        "\n",
        "criterion = nn.CrossEntropyLoss()\n",
        "optimizer = optim.SGD(net.parameters(), lr = 0.001, momentum=0.9)"
      ],
      "execution_count": 10,
      "outputs": []
    },
    {
      "cell_type": "code",
      "metadata": {
        "id": "SEGK-dTKn5uF",
        "colab_type": "code",
        "colab": {
          "base_uri": "https://localhost:8080/",
          "height": 1000
        },
        "outputId": "a7775709-e4c0-4ac3-fac1-efda4a887e70"
      },
      "source": [
        "training_acc = []\n",
        "test_acc = []\n",
        "train_loss = []\n",
        "\n",
        "for epoch in range(20): # loop over the dataset 20 times (1 epoch = all training samples)\n",
        "    \n",
        "    running_loss = 0.0\n",
        "    # ith mini-batch, 1 mini-batch has 64 training samples \n",
        "    # batch size = 64\n",
        "    for i, data in enumerate(trainloader, 0):\n",
        "        # get inputs; the data is presented as a list of [inputs, labels]\n",
        "        inputs, labels = data\n",
        "        inputs = inputs.to(device)\n",
        "        labels = labels.to(device)\n",
        "        \n",
        "        # zero the parameter gradients\n",
        "        optimizer.zero_grad()\n",
        "        \n",
        "        # forward \n",
        "        outputs = net(inputs)\n",
        "        # calculate loss\n",
        "        loss = criterion(outputs, labels)\n",
        "        # backward\n",
        "        loss.backward()\n",
        "        # update parameter (optimize)\n",
        "        optimizer.step()\n",
        "        \n",
        "        # print statistics\n",
        "        running_loss += loss.item()\n",
        "        if i%125 == 124: # print every 125 mini-batches, 125*64 samples\n",
        "            print('[%d, %5d] loss: %.3f' %\n",
        "                 (epoch+1, i+1, running_loss/125))\n",
        "            # every 125 mini-batches, reset running_loss    \n",
        "            # because it is accumulated for each mini-batches\n",
        "            train_loss.append(running_loss/125)\n",
        "            running_loss = 0.0\n",
        "            \n",
        "    \n",
        "    # training and test accuracy for each epoch\n",
        "    # train\n",
        "    correct = 0\n",
        "    total = 0\n",
        "    # no_grad(): reduce memory consumption for computations\n",
        "    with torch.no_grad():\n",
        "        # load data from training set\n",
        "        for data in trainloader:\n",
        "            images, labels = data\n",
        "            images = images.to(device)\n",
        "            labels = labels.to(device)\n",
        "            outputs = net(images)\n",
        "            _, predicted = torch.max(outputs.data, 1)\n",
        "            total += labels.size(0)\n",
        "            correct += (predicted == labels).sum().item()\n",
        "        training_acc.append(100 * correct / total)\n",
        "        \n",
        "    # test     \n",
        "    correct = 0\n",
        "    total = 0\n",
        "    # no_grad(): reduce memory consumption for computations\n",
        "    with torch.no_grad():\n",
        "        # load data from test set\n",
        "        for data in testloader:\n",
        "            images, labels = data\n",
        "            images = images.to(device)\n",
        "            labels = labels.to(device)\n",
        "            outputs = net(images)\n",
        "            _, predicted = torch.max(outputs.data, 1)\n",
        "            total += labels.size(0)\n",
        "            correct += (predicted == labels).sum().item()\n",
        "        test_acc.append(100 * correct / total)    \n",
        "        \n",
        "print(\"Finished Training\")"
      ],
      "execution_count": 11,
      "outputs": [
        {
          "output_type": "stream",
          "text": [
            "[1,   125] loss: 2.206\n",
            "[1,   250] loss: 1.931\n",
            "[1,   375] loss: 1.765\n",
            "[1,   500] loss: 1.667\n",
            "[1,   625] loss: 1.545\n",
            "[1,   750] loss: 1.461\n",
            "[2,   125] loss: 1.391\n",
            "[2,   250] loss: 1.338\n",
            "[2,   375] loss: 1.287\n",
            "[2,   500] loss: 1.254\n",
            "[2,   625] loss: 1.225\n",
            "[2,   750] loss: 1.203\n",
            "[3,   125] loss: 1.122\n",
            "[3,   250] loss: 1.090\n",
            "[3,   375] loss: 1.095\n",
            "[3,   500] loss: 1.063\n",
            "[3,   625] loss: 1.059\n",
            "[3,   750] loss: 1.000\n",
            "[4,   125] loss: 0.961\n",
            "[4,   250] loss: 0.942\n",
            "[4,   375] loss: 0.940\n",
            "[4,   500] loss: 0.923\n",
            "[4,   625] loss: 0.920\n",
            "[4,   750] loss: 0.904\n",
            "[5,   125] loss: 0.857\n",
            "[5,   250] loss: 0.824\n",
            "[5,   375] loss: 0.840\n",
            "[5,   500] loss: 0.815\n",
            "[5,   625] loss: 0.835\n",
            "[5,   750] loss: 0.819\n",
            "[6,   125] loss: 0.750\n",
            "[6,   250] loss: 0.746\n",
            "[6,   375] loss: 0.745\n",
            "[6,   500] loss: 0.742\n",
            "[6,   625] loss: 0.747\n",
            "[6,   750] loss: 0.749\n",
            "[7,   125] loss: 0.700\n",
            "[7,   250] loss: 0.676\n",
            "[7,   375] loss: 0.690\n",
            "[7,   500] loss: 0.676\n",
            "[7,   625] loss: 0.668\n",
            "[7,   750] loss: 0.669\n",
            "[8,   125] loss: 0.627\n",
            "[8,   250] loss: 0.626\n",
            "[8,   375] loss: 0.612\n",
            "[8,   500] loss: 0.611\n",
            "[8,   625] loss: 0.616\n",
            "[8,   750] loss: 0.625\n",
            "[9,   125] loss: 0.567\n",
            "[9,   250] loss: 0.547\n",
            "[9,   375] loss: 0.581\n",
            "[9,   500] loss: 0.579\n",
            "[9,   625] loss: 0.572\n",
            "[9,   750] loss: 0.574\n",
            "[10,   125] loss: 0.514\n",
            "[10,   250] loss: 0.531\n",
            "[10,   375] loss: 0.525\n",
            "[10,   500] loss: 0.538\n",
            "[10,   625] loss: 0.505\n",
            "[10,   750] loss: 0.536\n",
            "[11,   125] loss: 0.462\n",
            "[11,   250] loss: 0.467\n",
            "[11,   375] loss: 0.485\n",
            "[11,   500] loss: 0.484\n",
            "[11,   625] loss: 0.470\n",
            "[11,   750] loss: 0.500\n",
            "[12,   125] loss: 0.447\n",
            "[12,   250] loss: 0.423\n",
            "[12,   375] loss: 0.415\n",
            "[12,   500] loss: 0.443\n",
            "[12,   625] loss: 0.426\n",
            "[12,   750] loss: 0.437\n",
            "[13,   125] loss: 0.375\n",
            "[13,   250] loss: 0.379\n",
            "[13,   375] loss: 0.396\n",
            "[13,   500] loss: 0.420\n",
            "[13,   625] loss: 0.401\n",
            "[13,   750] loss: 0.400\n",
            "[14,   125] loss: 0.349\n",
            "[14,   250] loss: 0.350\n",
            "[14,   375] loss: 0.353\n",
            "[14,   500] loss: 0.361\n",
            "[14,   625] loss: 0.346\n",
            "[14,   750] loss: 0.355\n",
            "[15,   125] loss: 0.306\n",
            "[15,   250] loss: 0.314\n",
            "[15,   375] loss: 0.328\n",
            "[15,   500] loss: 0.337\n",
            "[15,   625] loss: 0.335\n",
            "[15,   750] loss: 0.333\n",
            "[16,   125] loss: 0.269\n",
            "[16,   250] loss: 0.273\n",
            "[16,   375] loss: 0.301\n",
            "[16,   500] loss: 0.295\n",
            "[16,   625] loss: 0.293\n",
            "[16,   750] loss: 0.302\n",
            "[17,   125] loss: 0.235\n",
            "[17,   250] loss: 0.244\n",
            "[17,   375] loss: 0.243\n",
            "[17,   500] loss: 0.245\n",
            "[17,   625] loss: 0.264\n",
            "[17,   750] loss: 0.277\n",
            "[18,   125] loss: 0.229\n",
            "[18,   250] loss: 0.207\n",
            "[18,   375] loss: 0.232\n",
            "[18,   500] loss: 0.236\n",
            "[18,   625] loss: 0.231\n",
            "[18,   750] loss: 0.245\n",
            "[19,   125] loss: 0.189\n",
            "[19,   250] loss: 0.184\n",
            "[19,   375] loss: 0.189\n",
            "[19,   500] loss: 0.207\n",
            "[19,   625] loss: 0.210\n",
            "[19,   750] loss: 0.217\n",
            "[20,   125] loss: 0.175\n",
            "[20,   250] loss: 0.183\n",
            "[20,   375] loss: 0.171\n",
            "[20,   500] loss: 0.181\n",
            "[20,   625] loss: 0.182\n",
            "[20,   750] loss: 0.189\n",
            "Finished Training\n"
          ],
          "name": "stdout"
        }
      ]
    },
    {
      "cell_type": "markdown",
      "metadata": {
        "id": "i5ODYQdmuzrw",
        "colab_type": "text"
      },
      "source": [
        "VGG11_C"
      ]
    },
    {
      "cell_type": "code",
      "metadata": {
        "id": "i4vpLXR8zjql",
        "colab_type": "code",
        "colab": {
          "base_uri": "https://localhost:8080/",
          "height": 353
        },
        "outputId": "c20f475e-4ac1-49c7-e2d9-09db78e61fef"
      },
      "source": [
        "training_acc"
      ],
      "execution_count": 12,
      "outputs": [
        {
          "output_type": "execute_result",
          "data": {
            "text/plain": [
              "[47.428,\n",
              " 57.482,\n",
              " 65.2,\n",
              " 70.214,\n",
              " 73.07,\n",
              " 76.564,\n",
              " 78.924,\n",
              " 81.348,\n",
              " 82.244,\n",
              " 83.336,\n",
              " 84.962,\n",
              " 86.106,\n",
              " 88.284,\n",
              " 89.26,\n",
              " 91.386,\n",
              " 92.08,\n",
              " 93.466,\n",
              " 92.674,\n",
              " 94.94,\n",
              " 95.674]"
            ]
          },
          "metadata": {
            "tags": []
          },
          "execution_count": 12
        }
      ]
    },
    {
      "cell_type": "code",
      "metadata": {
        "id": "rE7PGkbGrPWE",
        "colab_type": "code",
        "colab": {
          "base_uri": "https://localhost:8080/",
          "height": 353
        },
        "outputId": "c9d06551-c386-4d30-8abf-9befd0ae5efa"
      },
      "source": [
        "test_acc"
      ],
      "execution_count": 13,
      "outputs": [
        {
          "output_type": "execute_result",
          "data": {
            "text/plain": [
              "[47.12,\n",
              " 55.98,\n",
              " 63.9,\n",
              " 68.06,\n",
              " 70.45,\n",
              " 72.35,\n",
              " 73.88,\n",
              " 75.35,\n",
              " 76.05,\n",
              " 76.41,\n",
              " 77.34,\n",
              " 76.72,\n",
              " 78.77,\n",
              " 77.94,\n",
              " 79.72,\n",
              " 79.12,\n",
              " 79.64,\n",
              " 78.08,\n",
              " 79.02,\n",
              " 80.19]"
            ]
          },
          "metadata": {
            "tags": []
          },
          "execution_count": 13
        }
      ]
    },
    {
      "cell_type": "code",
      "metadata": {
        "id": "MbIxPJPjurex",
        "colab_type": "code",
        "colab": {
          "base_uri": "https://localhost:8080/",
          "height": 295
        },
        "outputId": "987e8b97-0b10-4fe8-b6e5-6aadf50fc0b9"
      },
      "source": [
        "import matplotlib.pyplot as plt\n",
        "import numpy as np\n",
        "epoch = np.linspace(1,21,20)\n",
        "fig = plt.figure()\n",
        "plt.plot(epoch, training_acc, label = 'training_accuracy')\n",
        "plt.plot(epoch, test_acc, label = 'test_accuracy')\n",
        "plt.title('Training and test accuracy for VGG11_C')\n",
        "plt.xlabel('Epoch')\n",
        "plt.ylabel('Accuracy')\n",
        "plt.legend()\n",
        "fig.savefig('VGG11_C_result.jpg')"
      ],
      "execution_count": 14,
      "outputs": [
        {
          "output_type": "display_data",
          "data": {
            "image/png": "[encoded data removed]",
            "text/plain": [
              "<Figure size 432x288 with 1 Axes>"
            ]
          },
          "metadata": {
            "tags": [],
            "needs_background": "light"
          }
        }
      ]
    },
    {
      "cell_type": "code",
      "metadata": {
        "id": "SzjpPOXFw3Tb",
        "colab_type": "code",
        "colab": {}
      },
      "source": [
        ""
      ],
      "execution_count": null,
      "outputs": []
    }
  ]
}
