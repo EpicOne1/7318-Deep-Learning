{
  "nbformat": 4,
  "nbformat_minor": 0,
  "metadata": {
    "kernelspec": {
      "display_name": "Python 3",
      "language": "python",
      "name": "python3"
    },
    "language_info": {
      "codemirror_mode": {
        "name": "ipython",
        "version": 3
      },
      "file_extension": ".py",
      "mimetype": "text/x-python",
      "name": "python",
      "nbconvert_exporter": "python",
      "pygments_lexer": "ipython3",
      "version": "3.7.7"
    },
    "colab": {
      "name": "VGG11_FC.ipynb",
      "provenance": [],
      "collapsed_sections": [],
      "include_colab_link": true
    },
    "accelerator": "GPU"
  },
  "cells": [
    {
      "cell_type": "markdown",
      "metadata": {
        "id": "view-in-github",
        "colab_type": "text"
      },
      "source": [
        "<a href=\"https://colab.research.google.com/github/EpicOne1/7318-Deep-Learning/blob/master/VGG11_FC.ipynb\" target=\"_parent\"><img src=\"https://colab.research.google.com/assets/colab-badge.svg\" alt=\"Open In Colab\"/></a>"
      ]
    },
    {
      "cell_type": "code",
      "metadata": {
        "id": "uBB8WxTnn5tp",
        "colab_type": "code",
        "colab": {}
      },
      "source": [
        "import torch\n",
        "import torchvision\n",
        "import torchvision.transforms as transforms"
      ],
      "execution_count": 21,
      "outputs": []
    },
    {
      "cell_type": "code",
      "metadata": {
        "id": "s3ZYhbjWn5tw",
        "colab_type": "code",
        "colab": {}
      },
      "source": [
        "device = torch.device(\"cuda:0\" if torch.cuda.is_available() else \"cpu\")"
      ],
      "execution_count": 22,
      "outputs": []
    },
    {
      "cell_type": "code",
      "metadata": {
        "id": "WD-i9i2Cn5t0",
        "colab_type": "code",
        "colab": {
          "base_uri": "https://localhost:8080/",
          "height": 34
        },
        "outputId": "54a271f5-358e-494c-8e85-0c257c3fd2dd"
      },
      "source": [
        "device"
      ],
      "execution_count": 23,
      "outputs": [
        {
          "output_type": "execute_result",
          "data": {
            "text/plain": [
              "device(type='cuda', index=0)"
            ]
          },
          "metadata": {
            "tags": []
          },
          "execution_count": 23
        }
      ]
    },
    {
      "cell_type": "code",
      "metadata": {
        "id": "MUlzssfFn5t5",
        "colab_type": "code",
        "colab": {
          "base_uri": "https://localhost:8080/",
          "height": 50
        },
        "outputId": "5999660c-2e14-44a1-cb1e-6ab8a024d1a3"
      },
      "source": [
        "transform = transforms.Compose([\n",
        "    transforms.ToTensor(),  \n",
        "    transforms.Normalize((0.5,0.5,0.5), (0.5,0.5,0.5))\n",
        "])\n",
        "\n",
        "trainset = torchvision.datasets.CIFAR10(root='./data', train=True,\n",
        "                                        download=True, transform=transform)\n",
        "trainloader = torch.utils.data.DataLoader(trainset, batch_size=64,\n",
        "                                          shuffle=True, num_workers=2)\n",
        "\n",
        "testset = torchvision.datasets.CIFAR10(root='./data', train=False,\n",
        "                                       download=True, transform=transform)\n",
        "testloader = torch.utils.data.DataLoader(testset, batch_size=64,\n",
        "                                         shuffle=False, num_workers=2)\n",
        "\n",
        "classes = ('plane', 'car', 'bird', 'cat',\n",
        "           'deer', 'dog', 'frog', 'horse', 'ship', 'truck')"
      ],
      "execution_count": 24,
      "outputs": [
        {
          "output_type": "stream",
          "text": [
            "Files already downloaded and verified\n",
            "Files already downloaded and verified\n"
          ],
          "name": "stdout"
        }
      ]
    },
    {
      "cell_type": "code",
      "metadata": {
        "id": "LK7plEM8n5t-",
        "colab_type": "code",
        "colab": {
          "base_uri": "https://localhost:8080/",
          "height": 403
        },
        "outputId": "b81fdfd6-8e97-4bbb-d128-b56ad389d25e"
      },
      "source": [
        "import torch.nn as nn\n",
        "import torch.nn.functional as F\n",
        "\n",
        "# VGG11 ConvNet configuration is 'A', 'M' = Max pooling layer\n",
        "# B is reduced size networks \n",
        "cfgs = {'D': [64, 'M', 128, 'M', 256, 256, 'M']}\n",
        "\n",
        "def make_layers(cfg):\n",
        "    layers = []\n",
        "    in_channels = 3\n",
        "    for v in cfg:\n",
        "        if v == 'M':\n",
        "            layers += [nn.MaxPool2d(kernel_size=2, stride=2)]\n",
        "        else: \n",
        "            # add convolutional layer and Batch Norm\n",
        "            layers.append(nn.Conv2d(in_channels=in_channels,\n",
        "                                    out_channels=v,\n",
        "                                    kernel_size=3,\n",
        "                                    stride=1,\n",
        "                                    padding=1,\n",
        "                                    bias=True))\n",
        "            layers.append(nn.BatchNorm2d(v))\n",
        "            layers.append(nn.ReLU(inplace=True))\n",
        "            in_channels = v\n",
        "    return nn.Sequential(*layers)\n",
        "\n",
        "\n",
        "\n",
        "class VGG(nn.Module):\n",
        "    # 10 classes\n",
        "    def __init__(self, name, num_classes=10):\n",
        "        super(VGG, self).__init__()\n",
        "        # VGG11_D\n",
        "        cfg = cfgs[name]\n",
        "        self.layers = make_layers(cfg)\n",
        "        self.avgpool = nn.AdaptiveAvgPool2d((3,3)) # change 7x7 to 3x3\n",
        "        self.classifier = nn.Sequential(\n",
        "            nn.Linear(256*3*3, num_classes), #fc1\n",
        "            # nn.ReLU(True),\n",
        "            # nn.Dropout(),\n",
        "            # nn.Linear(512,num_classes), #fc2\n",
        "            # nn.ReLU(True),\n",
        "            # nn.Dropout(),\n",
        "            # nn.Linear(256, num_classes) #fc3\n",
        "        )\n",
        "            \n",
        "    def forward(self,x):\n",
        "        x = self.layers(x)\n",
        "        x = self.avgpool(x)\n",
        "        x = torch.flatten(x,1)\n",
        "        x = self.classifier(x)\n",
        "        return x\n",
        "    \n",
        "def VGG11_D():\n",
        "  return VGG('D')\n",
        "\n",
        "    \n",
        "net = VGG11_D().to(device)\n",
        "print(net)"
      ],
      "execution_count": 25,
      "outputs": [
        {
          "output_type": "stream",
          "text": [
            "VGG(\n",
            "  (layers): Sequential(\n",
            "    (0): Conv2d(3, 64, kernel_size=(3, 3), stride=(1, 1), padding=(1, 1))\n",
            "    (1): BatchNorm2d(64, eps=1e-05, momentum=0.1, affine=True, track_running_stats=True)\n",
            "    (2): ReLU(inplace=True)\n",
            "    (3): MaxPool2d(kernel_size=2, stride=2, padding=0, dilation=1, ceil_mode=False)\n",
            "    (4): Conv2d(64, 128, kernel_size=(3, 3), stride=(1, 1), padding=(1, 1))\n",
            "    (5): BatchNorm2d(128, eps=1e-05, momentum=0.1, affine=True, track_running_stats=True)\n",
            "    (6): ReLU(inplace=True)\n",
            "    (7): MaxPool2d(kernel_size=2, stride=2, padding=0, dilation=1, ceil_mode=False)\n",
            "    (8): Conv2d(128, 256, kernel_size=(3, 3), stride=(1, 1), padding=(1, 1))\n",
            "    (9): BatchNorm2d(256, eps=1e-05, momentum=0.1, affine=True, track_running_stats=True)\n",
            "    (10): ReLU(inplace=True)\n",
            "    (11): Conv2d(256, 256, kernel_size=(3, 3), stride=(1, 1), padding=(1, 1))\n",
            "    (12): BatchNorm2d(256, eps=1e-05, momentum=0.1, affine=True, track_running_stats=True)\n",
            "    (13): ReLU(inplace=True)\n",
            "    (14): MaxPool2d(kernel_size=2, stride=2, padding=0, dilation=1, ceil_mode=False)\n",
            "  )\n",
            "  (avgpool): AdaptiveAvgPool2d(output_size=(3, 3))\n",
            "  (classifier): Sequential(\n",
            "    (0): Linear(in_features=2304, out_features=10, bias=True)\n",
            "  )\n",
            ")\n"
          ],
          "name": "stdout"
        }
      ]
    },
    {
      "cell_type": "code",
      "metadata": {
        "id": "odbRFbbpn5uC",
        "colab_type": "code",
        "colab": {}
      },
      "source": [
        "import torch.optim as optim\n",
        "\n",
        "criterion = nn.CrossEntropyLoss()\n",
        "optimizer = optim.SGD(net.parameters(), lr = 0.001, momentum=0.9)"
      ],
      "execution_count": 26,
      "outputs": []
    },
    {
      "cell_type": "code",
      "metadata": {
        "id": "SEGK-dTKn5uF",
        "colab_type": "code",
        "colab": {
          "base_uri": "https://localhost:8080/",
          "height": 1000
        },
        "outputId": "a93a34f6-6463-4fb9-bfdb-39b3d3aeeaaa"
      },
      "source": [
        "training_acc = []\n",
        "test_acc = []\n",
        "train_loss = []\n",
        "\n",
        "for epoch in range(100): # loop over the dataset 100 times (1 epoch = all training samples)\n",
        "    \n",
        "    running_loss = 0.0\n",
        "    # ith mini-batch, 1 mini-batch has 64 training samples \n",
        "    # batch size = 64\n",
        "    for i, data in enumerate(trainloader, 0):\n",
        "        # get inputs; the data is presented as a list of [inputs, labels]\n",
        "        inputs, labels = data\n",
        "        inputs = inputs.to(device)\n",
        "        labels = labels.to(device)\n",
        "        \n",
        "        # zero the parameter gradients\n",
        "        optimizer.zero_grad()\n",
        "        \n",
        "        # forward \n",
        "        outputs = net(inputs)\n",
        "        # calculate loss\n",
        "        loss = criterion(outputs, labels)\n",
        "        # backward\n",
        "        loss.backward()\n",
        "        # update parameter (optimize)\n",
        "        optimizer.step()\n",
        "        \n",
        "        # print statistics\n",
        "        running_loss += loss.item()\n",
        "        if i%125 == 124: # print every 125 mini-batches, 125*64 samples\n",
        "            print('[%d, %5d] loss: %.3f' %\n",
        "                 (epoch+1, i+1, running_loss/125))\n",
        "            # every 125 mini-batches, reset running_loss    \n",
        "            # because it is accumulated for each mini-batches\n",
        "            train_loss.append(running_loss/125)\n",
        "            running_loss = 0.0\n",
        "            \n",
        "    \n",
        "    # training and test accuracy for each epoch\n",
        "    # train\n",
        "    correct = 0\n",
        "    total = 0\n",
        "    # no_grad(): reduce memory consumption for computations\n",
        "    with torch.no_grad():\n",
        "        # load data from training set\n",
        "        for data in trainloader:\n",
        "            images, labels = data\n",
        "            images = images.to(device)\n",
        "            labels = labels.to(device)\n",
        "            outputs = net(images)\n",
        "            _, predicted = torch.max(outputs.data, 1)\n",
        "            total += labels.size(0)\n",
        "            correct += (predicted == labels).sum().item()\n",
        "        training_acc.append(100 * correct / total)\n",
        "        \n",
        "    # test     \n",
        "    correct = 0\n",
        "    total = 0\n",
        "    # no_grad(): reduce memory consumption for computations\n",
        "    with torch.no_grad():\n",
        "        # load data from test set\n",
        "        for data in testloader:\n",
        "            images, labels = data\n",
        "            images = images.to(device)\n",
        "            labels = labels.to(device)\n",
        "            outputs = net(images)\n",
        "            _, predicted = torch.max(outputs.data, 1)\n",
        "            total += labels.size(0)\n",
        "            correct += (predicted == labels).sum().item()\n",
        "        test_acc.append(100 * correct / total)    \n",
        "        \n",
        "print(\"Finished Training\")"
      ],
      "execution_count": 27,
      "outputs": [
        {
          "output_type": "stream",
          "text": [
            "[1,   125] loss: 1.724\n",
            "[1,   250] loss: 1.362\n",
            "[1,   375] loss: 1.214\n",
            "[1,   500] loss: 1.161\n",
            "[1,   625] loss: 1.088\n",
            "[1,   750] loss: 1.033\n",
            "[2,   125] loss: 0.942\n",
            "[2,   250] loss: 0.919\n",
            "[2,   375] loss: 0.890\n",
            "[2,   500] loss: 0.841\n",
            "[2,   625] loss: 0.822\n",
            "[2,   750] loss: 0.836\n",
            "[3,   125] loss: 0.735\n",
            "[3,   250] loss: 0.705\n",
            "[3,   375] loss: 0.714\n",
            "[3,   500] loss: 0.733\n",
            "[3,   625] loss: 0.688\n",
            "[3,   750] loss: 0.689\n",
            "[4,   125] loss: 0.619\n",
            "[4,   250] loss: 0.589\n",
            "[4,   375] loss: 0.618\n",
            "[4,   500] loss: 0.602\n",
            "[4,   625] loss: 0.606\n",
            "[4,   750] loss: 0.599\n",
            "[5,   125] loss: 0.522\n",
            "[5,   250] loss: 0.505\n",
            "[5,   375] loss: 0.523\n",
            "[5,   500] loss: 0.517\n",
            "[5,   625] loss: 0.536\n",
            "[5,   750] loss: 0.519\n",
            "[6,   125] loss: 0.411\n",
            "[6,   250] loss: 0.451\n",
            "[6,   375] loss: 0.450\n",
            "[6,   500] loss: 0.447\n",
            "[6,   625] loss: 0.452\n",
            "[6,   750] loss: 0.465\n",
            "[7,   125] loss: 0.378\n",
            "[7,   250] loss: 0.373\n",
            "[7,   375] loss: 0.385\n",
            "[7,   500] loss: 0.389\n",
            "[7,   625] loss: 0.392\n",
            "[7,   750] loss: 0.389\n",
            "[8,   125] loss: 0.307\n",
            "[8,   250] loss: 0.318\n",
            "[8,   375] loss: 0.331\n",
            "[8,   500] loss: 0.325\n",
            "[8,   625] loss: 0.305\n",
            "[8,   750] loss: 0.330\n",
            "[9,   125] loss: 0.249\n",
            "[9,   250] loss: 0.261\n",
            "[9,   375] loss: 0.267\n",
            "[9,   500] loss: 0.269\n",
            "[9,   625] loss: 0.265\n",
            "[9,   750] loss: 0.288\n",
            "[10,   125] loss: 0.206\n",
            "[10,   250] loss: 0.212\n",
            "[10,   375] loss: 0.202\n",
            "[10,   500] loss: 0.220\n",
            "[10,   625] loss: 0.225\n",
            "[10,   750] loss: 0.219\n",
            "[11,   125] loss: 0.156\n",
            "[11,   250] loss: 0.171\n",
            "[11,   375] loss: 0.174\n",
            "[11,   500] loss: 0.166\n",
            "[11,   625] loss: 0.178\n",
            "[11,   750] loss: 0.187\n",
            "[12,   125] loss: 0.125\n",
            "[12,   250] loss: 0.123\n",
            "[12,   375] loss: 0.129\n",
            "[12,   500] loss: 0.133\n",
            "[12,   625] loss: 0.145\n",
            "[12,   750] loss: 0.158\n",
            "[13,   125] loss: 0.097\n",
            "[13,   250] loss: 0.100\n",
            "[13,   375] loss: 0.105\n",
            "[13,   500] loss: 0.100\n",
            "[13,   625] loss: 0.100\n",
            "[13,   750] loss: 0.119\n",
            "[14,   125] loss: 0.071\n",
            "[14,   250] loss: 0.070\n",
            "[14,   375] loss: 0.071\n",
            "[14,   500] loss: 0.075\n",
            "[14,   625] loss: 0.078\n",
            "[14,   750] loss: 0.079\n",
            "[15,   125] loss: 0.051\n",
            "[15,   250] loss: 0.051\n",
            "[15,   375] loss: 0.052\n",
            "[15,   500] loss: 0.054\n",
            "[15,   625] loss: 0.052\n",
            "[15,   750] loss: 0.058\n",
            "[16,   125] loss: 0.041\n",
            "[16,   250] loss: 0.035\n",
            "[16,   375] loss: 0.038\n",
            "[16,   500] loss: 0.038\n",
            "[16,   625] loss: 0.040\n",
            "[16,   750] loss: 0.041\n",
            "[17,   125] loss: 0.027\n",
            "[17,   250] loss: 0.029\n",
            "[17,   375] loss: 0.027\n",
            "[17,   500] loss: 0.030\n",
            "[17,   625] loss: 0.030\n",
            "[17,   750] loss: 0.032\n",
            "[18,   125] loss: 0.022\n",
            "[18,   250] loss: 0.021\n",
            "[18,   375] loss: 0.024\n",
            "[18,   500] loss: 0.023\n",
            "[18,   625] loss: 0.023\n",
            "[18,   750] loss: 0.022\n",
            "[19,   125] loss: 0.019\n",
            "[19,   250] loss: 0.017\n",
            "[19,   375] loss: 0.017\n",
            "[19,   500] loss: 0.017\n",
            "[19,   625] loss: 0.018\n",
            "[19,   750] loss: 0.018\n",
            "[20,   125] loss: 0.013\n",
            "[20,   250] loss: 0.014\n",
            "[20,   375] loss: 0.014\n",
            "[20,   500] loss: 0.013\n",
            "[20,   625] loss: 0.015\n",
            "[20,   750] loss: 0.014\n",
            "[21,   125] loss: 0.015\n",
            "[21,   250] loss: 0.012\n",
            "[21,   375] loss: 0.011\n",
            "[21,   500] loss: 0.012\n",
            "[21,   625] loss: 0.012\n",
            "[21,   750] loss: 0.013\n",
            "[22,   125] loss: 0.010\n",
            "[22,   250] loss: 0.010\n",
            "[22,   375] loss: 0.010\n",
            "[22,   500] loss: 0.010\n",
            "[22,   625] loss: 0.011\n",
            "[22,   750] loss: 0.011\n",
            "[23,   125] loss: 0.009\n",
            "[23,   250] loss: 0.008\n",
            "[23,   375] loss: 0.009\n",
            "[23,   500] loss: 0.009\n",
            "[23,   625] loss: 0.009\n",
            "[23,   750] loss: 0.009\n",
            "[24,   125] loss: 0.008\n",
            "[24,   250] loss: 0.008\n",
            "[24,   375] loss: 0.008\n",
            "[24,   500] loss: 0.008\n",
            "[24,   625] loss: 0.008\n",
            "[24,   750] loss: 0.008\n",
            "[25,   125] loss: 0.007\n",
            "[25,   250] loss: 0.007\n",
            "[25,   375] loss: 0.007\n",
            "[25,   500] loss: 0.007\n",
            "[25,   625] loss: 0.007\n",
            "[25,   750] loss: 0.007\n",
            "[26,   125] loss: 0.007\n",
            "[26,   250] loss: 0.006\n",
            "[26,   375] loss: 0.006\n",
            "[26,   500] loss: 0.006\n",
            "[26,   625] loss: 0.007\n",
            "[26,   750] loss: 0.006\n",
            "[27,   125] loss: 0.007\n",
            "[27,   250] loss: 0.006\n"
          ],
          "name": "stdout"
        },
        {
          "output_type": "error",
          "ename": "KeyboardInterrupt",
          "evalue": "ignored",
          "traceback": [
            "\u001b[0;31m---------------------------------------------------------------------------\u001b[0m",
            "\u001b[0;31mKeyboardInterrupt\u001b[0m                         Traceback (most recent call last)",
            "\u001b[0;32m<ipython-input-27-1f55a4cbe1ce>\u001b[0m in \u001b[0;36m<module>\u001b[0;34m()\u001b[0m\n\u001b[1;32m     27\u001b[0m \u001b[0;34m\u001b[0m\u001b[0m\n\u001b[1;32m     28\u001b[0m         \u001b[0;31m# print statistics\u001b[0m\u001b[0;34m\u001b[0m\u001b[0;34m\u001b[0m\u001b[0;34m\u001b[0m\u001b[0m\n\u001b[0;32m---> 29\u001b[0;31m         \u001b[0mrunning_loss\u001b[0m \u001b[0;34m+=\u001b[0m \u001b[0mloss\u001b[0m\u001b[0;34m.\u001b[0m\u001b[0mitem\u001b[0m\u001b[0;34m(\u001b[0m\u001b[0;34m)\u001b[0m\u001b[0;34m\u001b[0m\u001b[0;34m\u001b[0m\u001b[0m\n\u001b[0m\u001b[1;32m     30\u001b[0m         \u001b[0;32mif\u001b[0m \u001b[0mi\u001b[0m\u001b[0;34m%\u001b[0m\u001b[0;36m125\u001b[0m \u001b[0;34m==\u001b[0m \u001b[0;36m124\u001b[0m\u001b[0;34m:\u001b[0m \u001b[0;31m# print every 125 mini-batches, 125*64 samples\u001b[0m\u001b[0;34m\u001b[0m\u001b[0;34m\u001b[0m\u001b[0m\n\u001b[1;32m     31\u001b[0m             print('[%d, %5d] loss: %.3f' %\n",
            "\u001b[0;31mKeyboardInterrupt\u001b[0m: "
          ]
        }
      ]
    },
    {
      "cell_type": "markdown",
      "metadata": {
        "id": "i5ODYQdmuzrw",
        "colab_type": "text"
      },
      "source": [
        "VGG11_2FC"
      ]
    },
    {
      "cell_type": "code",
      "metadata": {
        "id": "i4vpLXR8zjql",
        "colab_type": "code",
        "colab": {
          "base_uri": "https://localhost:8080/",
          "height": 353
        },
        "outputId": "a0bc9614-ec8b-4303-a90f-500ef564cdad"
      },
      "source": [
        "training_acc"
      ],
      "execution_count": 8,
      "outputs": [
        {
          "output_type": "execute_result",
          "data": {
            "text/plain": [
              "[59.396,\n",
              " 68.08,\n",
              " 72.194,\n",
              " 76.616,\n",
              " 79.676,\n",
              " 82.074,\n",
              " 84.004,\n",
              " 85.824,\n",
              " 87.866,\n",
              " 89.192,\n",
              " 90.012,\n",
              " 91.478,\n",
              " 93.434,\n",
              " 93.796,\n",
              " 94.326,\n",
              " 95.706,\n",
              " 96.682,\n",
              " 97.674,\n",
              " 97.514,\n",
              " 98.57]"
            ]
          },
          "metadata": {
            "tags": []
          },
          "execution_count": 8
        }
      ]
    },
    {
      "cell_type": "code",
      "metadata": {
        "id": "rE7PGkbGrPWE",
        "colab_type": "code",
        "colab": {
          "base_uri": "https://localhost:8080/",
          "height": 353
        },
        "outputId": "01397a04-3309-48e4-e272-0b7d96efde6d"
      },
      "source": [
        "test_acc"
      ],
      "execution_count": 9,
      "outputs": [
        {
          "output_type": "execute_result",
          "data": {
            "text/plain": [
              "[58.22,\n",
              " 66.8,\n",
              " 70.26,\n",
              " 73.7,\n",
              " 74.6,\n",
              " 76.25,\n",
              " 77.62,\n",
              " 77.74,\n",
              " 78.83,\n",
              " 79.51,\n",
              " 78.96,\n",
              " 79.6,\n",
              " 79.86,\n",
              " 79.87,\n",
              " 79.22,\n",
              " 80.47,\n",
              " 80.84,\n",
              " 80.76,\n",
              " 81.27,\n",
              " 80.89]"
            ]
          },
          "metadata": {
            "tags": []
          },
          "execution_count": 9
        }
      ]
    },
    {
      "cell_type": "code",
      "metadata": {
        "id": "MbIxPJPjurex",
        "colab_type": "code",
        "colab": {
          "base_uri": "https://localhost:8080/",
          "height": 295
        },
        "outputId": "803e082e-5f1e-4742-a9e5-79b88ad227d0"
      },
      "source": [
        "import matplotlib.pyplot as plt\n",
        "import numpy as np\n",
        "epoch = np.linspace(1,21,20)\n",
        "fig = plt.figure()\n",
        "plt.plot(epoch, training_acc, label = 'training_accuracy')\n",
        "plt.plot(epoch, test_acc, label = 'test_accuracy')\n",
        "plt.title('Training and test accuracy for VGG11_2FC')\n",
        "plt.xlabel('Epoch')\n",
        "plt.ylabel('Accuracy')\n",
        "plt.legend()\n",
        "fig.savefig('VGG11_2FC_result.jpg')"
      ],
      "execution_count": 10,
      "outputs": [
        {
          "output_type": "display_data",
          "data": {
            "image/png": "[encoded data removed]",
            "text/plain": [
              "<Figure size 432x288 with 1 Axes>"
            ]
          },
          "metadata": {
            "tags": [],
            "needs_background": "light"
          }
        }
      ]
    },
    {
      "cell_type": "code",
      "metadata": {
        "id": "SzjpPOXFw3Tb",
        "colab_type": "code",
        "colab": {}
      },
      "source": [
        ""
      ],
      "execution_count": null,
      "outputs": []
    },
    {
      "cell_type": "markdown",
      "metadata": {
        "id": "TkKg-1yF3vxv",
        "colab_type": "text"
      },
      "source": [
        "VGG11_FC"
      ]
    },
    {
      "cell_type": "code",
      "metadata": {
        "id": "CSX-F6kB3xJg",
        "colab_type": "code",
        "colab": {
          "base_uri": "https://localhost:8080/",
          "height": 353
        },
        "outputId": "b2414f78-336a-48ab-8c0d-79f94932a55e"
      },
      "source": [
        "training_acc"
      ],
      "execution_count": 18,
      "outputs": [
        {
          "output_type": "execute_result",
          "data": {
            "text/plain": [
              "[68.554,\n",
              " 75.418,\n",
              " 79.796,\n",
              " 82.196,\n",
              " 84.244,\n",
              " 88.786,\n",
              " 90.738,\n",
              " 90.516,\n",
              " 94.32,\n",
              " 95.578,\n",
              " 97.328,\n",
              " 96.972,\n",
              " 98.712,\n",
              " 99.126,\n",
              " 99.43,\n",
              " 99.71,\n",
              " 99.872,\n",
              " 99.974,\n",
              " 99.974,\n",
              " 99.998]"
            ]
          },
          "metadata": {
            "tags": []
          },
          "execution_count": 18
        }
      ]
    },
    {
      "cell_type": "code",
      "metadata": {
        "id": "ye0UVU_q82-L",
        "colab_type": "code",
        "colab": {
          "base_uri": "https://localhost:8080/",
          "height": 353
        },
        "outputId": "924e47c7-62de-48c5-dcab-4ad44eb8c839"
      },
      "source": [
        "test_acc"
      ],
      "execution_count": 19,
      "outputs": [
        {
          "output_type": "execute_result",
          "data": {
            "text/plain": [
              "[66.72,\n",
              " 71.97,\n",
              " 74.65,\n",
              " 76.22,\n",
              " 76.46,\n",
              " 78.97,\n",
              " 78.72,\n",
              " 78.59,\n",
              " 80.27,\n",
              " 80.35,\n",
              " 80.38,\n",
              " 79.9,\n",
              " 80.88,\n",
              " 81.1,\n",
              " 81.54,\n",
              " 81.59,\n",
              " 82.07,\n",
              " 82.55,\n",
              " 82.11,\n",
              " 82.39]"
            ]
          },
          "metadata": {
            "tags": []
          },
          "execution_count": 19
        }
      ]
    },
    {
      "cell_type": "code",
      "metadata": {
        "id": "phG8naLW84fb",
        "colab_type": "code",
        "colab": {
          "base_uri": "https://localhost:8080/",
          "height": 295
        },
        "outputId": "1c275f2b-3f1f-4554-9c5b-a1f19eb90080"
      },
      "source": [
        "import matplotlib.pyplot as plt\n",
        "import numpy as np\n",
        "epoch = np.linspace(1,21,20)\n",
        "fig = plt.figure()\n",
        "plt.plot(epoch, training_acc, label = 'training_accuracy')\n",
        "plt.plot(epoch, test_acc, label = 'test_accuracy')\n",
        "plt.title('Training and test accuracy for VGG11_FC')\n",
        "plt.xlabel('Epoch')\n",
        "plt.ylabel('Accuracy')\n",
        "plt.legend()\n",
        "fig.savefig('VGG11_FC_result.jpg')"
      ],
      "execution_count": 20,
      "outputs": [
        {
          "output_type": "display_data",
          "data": {
            "image/png": "[encoded data removed]",
            "text/plain": [
              "<Figure size 432x288 with 1 Axes>"
            ]
          },
          "metadata": {
            "tags": [],
            "needs_background": "light"
          }
        }
      ]
    },
    {
      "cell_type": "code",
      "metadata": {
        "id": "mnFxPQS88_9D",
        "colab_type": "code",
        "colab": {
          "base_uri": "https://localhost:8080/",
          "height": 454
        },
        "outputId": "6d95b8ba-74dd-42a7-9a7f-612a8385d8d2"
      },
      "source": [
        "training_acc"
      ],
      "execution_count": 28,
      "outputs": [
        {
          "output_type": "execute_result",
          "data": {
            "text/plain": [
              "[64.536,\n",
              " 74.844,\n",
              " 77.876,\n",
              " 80.822,\n",
              " 85.912,\n",
              " 87.644,\n",
              " 89.888,\n",
              " 92.27,\n",
              " 93.614,\n",
              " 95.818,\n",
              " 96.24,\n",
              " 97.9,\n",
              " 98.528,\n",
              " 99.466,\n",
              " 99.63,\n",
              " 99.894,\n",
              " 99.966,\n",
              " 99.968,\n",
              " 99.982,\n",
              " 99.982,\n",
              " 100.0,\n",
              " 99.998,\n",
              " 99.998,\n",
              " 100.0,\n",
              " 100.0,\n",
              " 100.0]"
            ]
          },
          "metadata": {
            "tags": []
          },
          "execution_count": 28
        }
      ]
    },
    {
      "cell_type": "code",
      "metadata": {
        "id": "Z5716PQyBW4l",
        "colab_type": "code",
        "colab": {
          "base_uri": "https://localhost:8080/",
          "height": 454
        },
        "outputId": "3c1864d7-727c-4714-f252-f149fded7c7a"
      },
      "source": [
        "test_acc"
      ],
      "execution_count": 29,
      "outputs": [
        {
          "output_type": "execute_result",
          "data": {
            "text/plain": [
              "[62.75,\n",
              " 71.44,\n",
              " 72.67,\n",
              " 74.61,\n",
              " 77.49,\n",
              " 77.61,\n",
              " 78.29,\n",
              " 78.92,\n",
              " 79.72,\n",
              " 79.85,\n",
              " 79.47,\n",
              " 80.82,\n",
              " 80.94,\n",
              " 81.79,\n",
              " 82.44,\n",
              " 82.19,\n",
              " 83.05,\n",
              " 82.95,\n",
              " 82.73,\n",
              " 82.63,\n",
              " 82.67,\n",
              " 82.98,\n",
              " 83.08,\n",
              " 83.01,\n",
              " 83.04,\n",
              " 82.93]"
            ]
          },
          "metadata": {
            "tags": []
          },
          "execution_count": 29
        }
      ]
    },
    {
      "cell_type": "code",
      "metadata": {
        "id": "Px1XX__uBY50",
        "colab_type": "code",
        "colab": {
          "base_uri": "https://localhost:8080/",
          "height": 295
        },
        "outputId": "c511629f-0376-45e9-c5b2-682a41b5ebea"
      },
      "source": [
        "import matplotlib.pyplot as plt\n",
        "import numpy as np\n",
        "epoch = np.linspace(1,27,26)\n",
        "fig = plt.figure()\n",
        "plt.plot(epoch, training_acc, label = 'training_accuracy')\n",
        "plt.plot(epoch, test_acc, label = 'test_accuracy')\n",
        "plt.title('Training and test accuracy for VGG11_2FC')\n",
        "plt.xlabel('Epoch')\n",
        "plt.ylabel('Accuracy')\n",
        "plt.legend()\n",
        "fig.savefig('VGG11_2FC_result.jpg')"
      ],
      "execution_count": 30,
      "outputs": [
        {
          "output_type": "display_data",
          "data": {
            "image/png": "[encoded data removed]",
            "text/plain": [
              "<Figure size 432x288 with 1 Axes>"
            ]
          },
          "metadata": {
            "tags": [],
            "needs_background": "light"
          }
        }
      ]
    },
    {
      "cell_type": "code",
      "metadata": {
        "id": "n8VxNiPFCdOt",
        "colab_type": "code",
        "colab": {}
      },
      "source": [
        ""
      ],
      "execution_count": null,
      "outputs": []
    }
  ]
}